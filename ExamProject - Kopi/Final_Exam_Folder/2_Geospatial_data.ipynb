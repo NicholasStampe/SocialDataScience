{
 "cells": [
  {
   "cell_type": "markdown",
   "id": "cd5a48bb-37e1-4a24-ab52-820237183f78",
   "metadata": {},
   "source": [
    "- Identify the Geospatial Attributes You Need: **shopping centre, schools, restaurants, public transportation, hospitals, beaches**\n",
    "\n",
    "\n",
    "- Use the Overpass API with overpy2 Wrapper:\n",
    "\n",
    "This will help you fetch data from OSM. You might need to learn the query language for the Overpass API, but there are plenty of examples online.\n",
    "\n"
   ]
  },
  {
   "cell_type": "markdown",
   "id": "f0294538-999b-4388-bddd-f20bc9946705",
   "metadata": {},
   "source": [
    "# Overview of the code\n",
    "### 1.: Collecting \n",
    "### 2.: Provide a representative central point for each geographical feature type.\n",
    "### 3.: Filters geospatial points inside Denmark, saves results, and reports exclusions.\n",
    "### 4.: Combining the geospatial data into one file."
   ]
  },
  {
   "cell_type": "code",
   "execution_count": 49,
   "id": "98fb3a7c-95ee-475f-910d-52c02462977b",
   "metadata": {},
   "outputs": [],
   "source": [
    "# pip install overpy\n"
   ]
  },
  {
   "cell_type": "code",
   "execution_count": 50,
   "id": "c1fe7b9f-e1a0-48ff-a255-e51e4502d149",
   "metadata": {},
   "outputs": [],
   "source": [
    "#pip install geopandas\n"
   ]
  },
  {
   "cell_type": "markdown",
   "id": "a27544e2-3d64-423b-bae0-50aadf02c92b",
   "metadata": {},
   "source": [
    "### 1. This code uses the Overpass API to query OpenStreetMap for different types of locations (schools, restaurants, hospitals, malls), retrieves their nodes, ways, and relations, and organizes the data into dictionaries containing names and locations (longitude and latitude)."
   ]
  },
  {
   "cell_type": "code",
   "execution_count": 51,
   "id": "d4230903-f612-4d99-b308-760925d89d1a",
   "metadata": {},
   "outputs": [],
   "source": [
    "import overpy\n",
    "import warnings\n",
    "warnings.filterwarnings('ignore')\n",
    "\n",
    "api = overpy.Overpass()\n",
    "\n",
    "def query_osm(tag, value, bbox=(54.5, 8.0, 57.9, 15.2)):\n",
    "    result = api.query(f\"\"\"\n",
    "    [out:json];\n",
    "    (\n",
    "      node[\"{tag}\"=\"{value}\"]{bbox};\n",
    "      way[\"{tag}\"=\"{value}\"]{bbox};\n",
    "      relation[\"{tag}\"=\"{value}\"]{bbox};\n",
    "    );\n",
    "    (._;>;);\n",
    "    out body;\n",
    "    \"\"\")\n",
    "\n",
    "    nodes = [{'name': item.tags.get('name', 'n/a'), 'location': (item.lon, item.lat)} for item in result.nodes]\n",
    "    ways = [{'name': way.tags.get('name', 'n/a'), 'nodes': [(node.lon, node.lat) for node in way.nodes]} for way in result.ways]\n",
    "    \n",
    "    relations = []\n",
    "    for relation in result.relations:\n",
    "        relation_ways = [way for way in result.ways if way.id in [member.ref for member in relation.members if member.role == \"outer\"]]\n",
    "        relations.append({'name': relation.tags.get('name', 'n/a'), 'ways': relation_ways})\n",
    "\n",
    "    return nodes, ways, relations\n",
    "\n",
    "schools_nodes, schools_ways, schools_relations = query_osm(\"amenity\", \"school\")\n",
    "restaurants_nodes, restaurants_ways, restaurants_relations = query_osm(\"amenity\", \"restaurant\")\n",
    "hospitals_nodes, hospitals_ways, hospitals_relations = query_osm(\"amenity\", \"hospital\")\n",
    "malls_nodes, malls_ways, malls_relations = query_osm(\"shop\", \"mall\")\n"
   ]
  },
  {
   "cell_type": "markdown",
   "id": "e23a4e15-d17d-473a-949d-56966f9a94c6",
   "metadata": {},
   "source": [
    "### 2. The resulting centroids of the below code provide a representative central point for each geographical feature type."
   ]
  },
  {
   "cell_type": "code",
   "execution_count": 52,
   "id": "07c91126-2bcf-401f-a7fc-5a26efaa6858",
   "metadata": {},
   "outputs": [],
   "source": [
    "def calculate_centroid(nodes):\n",
    "    lon_sum = sum([node[0] for node in nodes])\n",
    "    lat_sum = sum([node[1] for node in nodes])\n",
    "    centroid_lon = lon_sum / len(nodes)\n",
    "    centroid_lat = lat_sum / len(nodes)\n",
    "    return (centroid_lon, centroid_lat)\n",
    "\n",
    "def collect_centroids(nodes, ways, relations):\n",
    "    centroids = {}\n",
    "\n",
    "    # Handle relations first:\n",
    "    for relation in relations:\n",
    "        name = relation['name']\n",
    "        if name not in centroids:\n",
    "            relation_centroids = [calculate_centroid([(node.lon, node.lat) for node in way.nodes]) for way in relation['ways'] if way.nodes]\n",
    "            if relation_centroids:\n",
    "                relation_centroid = calculate_centroid(relation_centroids)\n",
    "                centroids[name] = relation_centroid\n",
    "\n",
    "    # Then handle ways:\n",
    "    for way in ways:\n",
    "        name = way['name']\n",
    "        if name not in centroids:\n",
    "            if way['nodes']:\n",
    "                way_centroid = calculate_centroid(way['nodes'])\n",
    "                centroids[name] = way_centroid\n",
    "\n",
    "    # Lastly, handle nodes:\n",
    "    for node in nodes:\n",
    "        name = node['name']\n",
    "        if name not in centroids:\n",
    "            centroids[name] = node['location']\n",
    "\n",
    "    return centroids\n",
    "\n",
    "\n",
    "schools_centroids = collect_centroids(schools_nodes, schools_ways, schools_relations)\n",
    "restaurants_centroids = collect_centroids(restaurants_nodes, restaurants_ways, restaurants_relations)\n",
    "hospitals_centroids = collect_centroids(hospitals_nodes, hospitals_ways, hospitals_relations)\n",
    "malls_centroids = collect_centroids(malls_nodes, malls_ways, malls_relations)\n"
   ]
  },
  {
   "cell_type": "code",
   "execution_count": 53,
   "id": "e6484350-ec3b-41bd-b747-f0e49eea1e06",
   "metadata": {},
   "outputs": [
    {
     "name": "stdout",
     "output_type": "stream",
     "text": [
      "Data written to '2_all_centroids.csv'\n"
     ]
    }
   ],
   "source": [
    "import csv\n",
    "\n",
    "all_centroids = {\n",
    "    \"Schools\": schools_centroids,\n",
    "    \"Restaurants\": restaurants_centroids,\n",
    "    \"Hospitals\": hospitals_centroids,\n",
    "    \"Malls\": malls_centroids,\n",
    "}\n",
    "\n",
    "# Write data to CSV with UTF-8 encoding\n",
    "with open(\"2_all_centroids.csv\", \"w\", newline='', encoding='utf-8') as csv_file:\n",
    "    writer = csv.writer(csv_file)\n",
    "    # Write header\n",
    "    writer.writerow([\"Type\", \"Name\", \"Latitude\", \"Longitude\"])\n",
    "    \n",
    "    for category, centroids in all_centroids.items():\n",
    "        for name, location in centroids.items():\n",
    "            if location != \"No Centroid\":\n",
    "                writer.writerow([category, name, location[1], location[0]]) # Note: Swapped Lat and Long for your preference.\n",
    "            else:\n",
    "                writer.writerow([category, name, \"No Centroid\", \"No Centroid\"])\n",
    "\n",
    "print(\"Data written to '2_all_centroids.csv'\")\n"
   ]
  },
  {
   "cell_type": "markdown",
   "id": "3de1860a-e98a-44e1-bf4a-599a93b86fce",
   "metadata": {},
   "source": [
    "### Now we want to collect data only inside Denmark. The below figure, is a plot of the area that we define as \"Denmark\" based on our \"Danmark Shapefile\" folder (this is just a check - not neccessary for our computation)"
   ]
  },
  {
   "cell_type": "code",
   "execution_count": 54,
   "id": "dd97ad30-71f9-4636-832e-9f3c3ff47850",
   "metadata": {},
   "outputs": [
    {
     "data": {
      "text/plain": [
       "<Axes: >"
      ]
     },
     "execution_count": 54,
     "metadata": {},
     "output_type": "execute_result"
    },
    {
     "data": {
      "image/png": "[encoded data removed]",
      "text/plain": [
       "<Figure size 640x480 with 1 Axes>"
      ]
     },
     "metadata": {},
     "output_type": "display_data"
    }
   ],
   "source": [
    "import geopandas as gpd\n",
    "\n",
    "# Load the Denmark boundary shapefile\n",
    "denmark_boundary = gpd.read_file(\"2_Danmark Shapefile/DNK_adm0.shp\")\n",
    "\n",
    "# Plot Denmark boundary\n",
    "denmark_boundary.plot()"
   ]
  },
  {
   "cell_type": "markdown",
   "id": "29314ce9-c226-466b-b606-714e6f9a8dec",
   "metadata": {},
   "source": [
    "### 3. This code filters geospatial points inside Denmark, saves results, and reports exclusions.\n",
    "\n",
    "\n",
    "\n",
    "\n"
   ]
  },
  {
   "cell_type": "code",
   "execution_count": 55,
   "id": "c8ad62ac-dec3-4025-bbb1-c41994327675",
   "metadata": {},
   "outputs": [
    {
     "name": "stdout",
     "output_type": "stream",
     "text": [
      "4947 data points were outside Denmark and have been removed.\n"
     ]
    }
   ],
   "source": [
    "import geopandas as gpd\n",
    "import pandas as pd\n",
    "\n",
    "# Load the Denmark boundary shapefile\n",
    "denmark_boundary = gpd.read_file(\"2_Danmark Shapefile/DNK_adm0.shp\")\n",
    "\n",
    "# Load the CSV data\n",
    "geo_df = pd.read_csv('2_all_centroids.csv')\n",
    "\n",
    "# Convert the DataFrame to a GeoDataFrame\n",
    "geometry = gpd.points_from_xy(geo_df.Longitude, geo_df.Latitude)\n",
    "gdf_geo = gpd.GeoDataFrame(geo_df, geometry=geometry)\n",
    "\n",
    "# Perform a spatial join to identify points within Denmark's boundary\n",
    "geospatial_inside_denmark = gpd.sjoin(gdf_geo, denmark_boundary, op=\"within\")\n",
    "\n",
    "# Save the filtered data back to a new CSV\n",
    "geospatial_inside_denmark.drop(columns=['geometry', 'index_right']).to_csv('2_geospatial_inside_denmark.csv', index=False)\n",
    "\n",
    "print(f\"{len(geo_df) - len(geospatial_inside_denmark)} data points were outside Denmark and have been removed.\")\n"
   ]
  },
  {
   "cell_type": "markdown",
   "id": "5ac3d8d1-be6d-4dc4-9320-7aae05ff619f",
   "metadata": {},
   "source": [
    "### Now retreive only the first 4 columns"
   ]
  },
  {
   "cell_type": "code",
   "execution_count": 56,
   "id": "dbc9d215-8fcf-46bb-8c17-3272315424b8",
   "metadata": {},
   "outputs": [
    {
     "name": "stdout",
     "output_type": "stream",
     "text": [
      "4947 data points were outside Denmark and have been removed.\n"
     ]
    }
   ],
   "source": [
    "import geopandas as gpd\n",
    "import pandas as pd\n",
    "\n",
    "# Load the Denmark boundary shapefile\n",
    "denmark_boundary = gpd.read_file(\"2_Danmark Shapefile/DNK_adm0.shp\")\n",
    "\n",
    "# Load the CSV data\n",
    "geo_df = pd.read_csv('2_all_centroids.csv')\n",
    "\n",
    "# Convert the DataFrame to a GeoDataFrame\n",
    "geometry = gpd.points_from_xy(geo_df.Longitude, geo_df.Latitude)\n",
    "gdf_geo = gpd.GeoDataFrame(geo_df, geometry=geometry)\n",
    "\n",
    "# Perform a spatial join to identify points within Denmark's boundary\n",
    "geospatial_inside_denmark = gpd.sjoin(gdf_geo, denmark_boundary, op=\"within\")\n",
    "\n",
    "# Select only the first 4 columns and save to a new CSV\n",
    "columns_to_save = [\"Type\", \"Name\", \"Latitude\", \"Longitude\"]\n",
    "geospatial_inside_denmark[columns_to_save].to_csv('2_geospatial_inside_denmark.csv', index=False)\n",
    "\n",
    "print(f\"{len(geo_df) - len(geospatial_inside_denmark)} data points were outside Denmark and have been removed.\")\n"
   ]
  },
  {
   "cell_type": "markdown",
   "id": "889f524a-af4f-4583-a483-cf193d94e965",
   "metadata": {},
   "source": [
    " ### Public Transportation"
   ]
  },
  {
   "cell_type": "code",
   "execution_count": 57,
   "id": "75d93874-1072-4fb8-9088-dce1ecd074f6",
   "metadata": {},
   "outputs": [],
   "source": [
    "import overpy\n",
    "\n",
    "api = overpy.Overpass()\n",
    "\n",
    "# Query for public transport stations in Denmark using the bounding box\n",
    "result = api.query(\"\"\"\n",
    "[out:json];\n",
    "(\n",
    "  node[\"public_transport\"=\"station\"](54.5,8.0,57.9,15.2);\n",
    "  way[\"public_transport\"=\"station\"](54.5,8.0,57.9,15.2);\n",
    "  relation[\"public_transport\"=\"station\"](54.5,8.0,57.9,15.2);\n",
    ");\n",
    "(._;>;);\n",
    "out body;\n",
    "\"\"\")\n",
    "\n",
    "# Structure the data\n",
    "nodes = [{'name': station.tags.get('name', 'n/a'), 'location': (station.lon, station.lat)} for station in result.nodes]\n",
    "ways = [{'name': way.tags.get('name', 'n/a'), 'nodes': [(node.lon, node.lat) for node in way.nodes]} for way in result.ways]\n",
    "\n",
    "# For relations, fetch associated ways from the result\n",
    "relations = []\n",
    "for relation in result.relations:\n",
    "    relation_ways = [way for way in result.ways if way.id in [member.ref for member in relation.members if member.role == \"outer\"]]\n",
    "    relations.append({'name': relation.tags.get('name', 'n/a'), 'ways': relation_ways})\n"
   ]
  },
  {
   "cell_type": "code",
   "execution_count": 58,
   "id": "fe2fff4e-512e-4087-b29f-5ee14d39a991",
   "metadata": {},
   "outputs": [],
   "source": [
    "import csv\n",
    "\n",
    "def get_centroid(nodes):\n",
    "    \"\"\"Calculate the centroid of a list of nodes.\"\"\"\n",
    "    x_coords = [node[0] for node in nodes]\n",
    "    y_coords = [node[1] for node in nodes]\n",
    "    centroid_x = sum(x_coords) / len(nodes)\n",
    "    centroid_y = sum(y_coords) / len(nodes)\n",
    "    return (centroid_x, centroid_y)\n",
    "\n",
    "stations_centroids = {}\n",
    "\n",
    "# Handle nodes:\n",
    "for node in nodes:\n",
    "    station_name = node['name']\n",
    "    if station_name not in stations_centroids:\n",
    "        stations_centroids[station_name] = node['location']\n",
    "\n",
    "# Handle ways:\n",
    "for way in ways:\n",
    "    station_name = way['name']\n",
    "    if station_name not in stations_centroids:\n",
    "        stations_centroids[station_name] = get_centroid(way['nodes'])\n",
    "\n",
    "# Handle relations:\n",
    "for relation in relations:\n",
    "    station_name = relation['name']\n",
    "    if station_name not in stations_centroids:\n",
    "        relation_centroids = [get_centroid([(node.lon, node.lat) for node in way.nodes]) for way in relation['ways']]\n",
    "        stations_centroids[station_name] = get_centroid(relation_centroids)\n"
   ]
  },
  {
   "cell_type": "code",
   "execution_count": 59,
   "id": "d202745c-6eb0-4620-86c5-ecef8690594d",
   "metadata": {},
   "outputs": [
    {
     "name": "stdout",
     "output_type": "stream",
     "text": [
      "Data written to '2_public_transport_stations.csv'\n"
     ]
    }
   ],
   "source": [
    "import csv\n",
    "\n",
    "# Combine all data\n",
    "all_centroids = {\n",
    "    \"Public Transport Stations\": stations_centroids,\n",
    "}\n",
    "\n",
    "# Write data to CSV with UTF-8 encoding\n",
    "with open(\"2_public_transport_stations.csv\", \"w\", newline='', encoding='utf-8') as csv_file:\n",
    "    writer = csv.writer(csv_file)\n",
    "    # Write header\n",
    "    writer.writerow([\"Type\", \"Name\", \"Longitude\", \"Latitude\"])\n",
    "    \n",
    "    for category, centroids in all_centroids.items():\n",
    "        for name, location in centroids.items():\n",
    "            if location != \"No Centroid\":\n",
    "                writer.writerow([category, name, location[0], location[1]])\n",
    "            else:\n",
    "                writer.writerow([category, name, \"No Centroid\", \"No Centroid\"])\n",
    "\n",
    "print(\"Data written to '2_public_transport_stations.csv'\")\n"
   ]
  },
  {
   "cell_type": "code",
   "execution_count": 60,
   "id": "f1b31c97-1bfa-431a-8ded-9b6115edde08",
   "metadata": {},
   "outputs": [],
   "source": [
    "import pandas as pd\n",
    "\n",
    "# Assuming you've loaded your data into a DataFrame named 'df'\n",
    "df = pd.read_csv('2_public_transport_stations.csv')\n",
    "\n",
    "# Reordering the columns\n",
    "df = df[['Type', 'Name', 'Latitude', 'Longitude']]\n",
    "\n",
    "# Saving it back to the CSV (or to a new CSV if you prefer)\n",
    "df.to_csv('2_public_transport_stations_right_order.csv', index=False)\n"
   ]
  },
  {
   "cell_type": "code",
   "execution_count": 61,
   "id": "63498e91-7d74-49e6-99f7-a43f2ed528f4",
   "metadata": {},
   "outputs": [
    {
     "name": "stdout",
     "output_type": "stream",
     "text": [
      "319 data points were outside Denmark and have been removed.\n"
     ]
    }
   ],
   "source": [
    "import geopandas as gpd\n",
    "import pandas as pd\n",
    "\n",
    "# 1. Load the Denmark boundary shapefile\n",
    "denmark_boundary = gpd.read_file(\"2_Danmark Shapefile/DNK_adm0.shp\")\n",
    "\n",
    "# 2. Load the CSV data\n",
    "stations_df = pd.read_csv('2_public_transport_stations_right_order.csv')\n",
    "\n",
    "# Convert the CSV dataframe to a geodataframe\n",
    "gdf_stations = gpd.GeoDataFrame(stations_df,\n",
    "                                geometry=gpd.points_from_xy(stations_df.Longitude, stations_df.Latitude))\n",
    "\n",
    "# 3. Perform spatial join to filter stations within Denmark's boundary\n",
    "stations_inside_denmark = gpd.sjoin(gdf_stations, denmark_boundary, op=\"within\")\n",
    "\n",
    "# Select only the first 4 columns and save to a new CSV\n",
    "columns_to_save = [\"Type\", \"Name\", \"Latitude\", \"Longitude\"]\n",
    "stations_inside_denmark[columns_to_save].to_csv('2_stations_inside_denmark.csv', index=False)\n",
    "\n",
    "print(f\"{len(stations_df) - len(stations_inside_denmark)} data points were outside Denmark and have been removed.\")"
   ]
  },
  {
   "cell_type": "markdown",
   "id": "c66e15ec-5e92-4e3d-b453-dfeb35f0c947",
   "metadata": {},
   "source": [
    "### Beaches\n"
   ]
  },
  {
   "cell_type": "code",
   "execution_count": 62,
   "id": "d3a7804b-bc8e-436f-b482-dd54751ed1a5",
   "metadata": {},
   "outputs": [],
   "source": [
    "import overpy\n",
    "\n",
    "api = overpy.Overpass()\n",
    "\n",
    "# Query for beaches in Denmark using a more accurate bounding box\n",
    "result = api.query(\"\"\"\n",
    "[out:json];\n",
    "(\n",
    "  node[\"natural\"=\"beach\"](54.5,8.0,57.9,15.2);\n",
    "  way[\"natural\"=\"beach\"](54.5,8.0,57.9,15.2);\n",
    "  relation[\"natural\"=\"beach\"](54.5,8.0,57.9,15.2);\n",
    ");\n",
    "(._;>;);\n",
    "out body;\n",
    "\"\"\")\n",
    "\n",
    "# Structure the data\n",
    "nodes = [{'name': beach.tags.get('name', 'n/a'), 'location': (beach.lon, beach.lat)} for beach in result.nodes]\n",
    "ways = [{'name': way.tags.get('name', 'n/a'), 'nodes': [(node.lon, node.lat) for node in way.nodes]} for way in result.ways]\n",
    "\n",
    "# For relations, fetch associated ways from the result\n",
    "relations = []\n",
    "for relation in result.relations:\n",
    "    relation_ways = [way for way in result.ways if way.id in [member.ref for member in relation.members if member.role == \"outer\"]]\n",
    "    relations.append({'name': relation.tags.get('name', 'n/a'), 'ways': relation_ways})\n"
   ]
  },
  {
   "cell_type": "code",
   "execution_count": 63,
   "id": "e7dbbac6-57c8-42ae-8b0d-a453548a3c78",
   "metadata": {},
   "outputs": [],
   "source": [
    "import csv\n",
    "\n",
    "def get_centroid(nodes):\n",
    "    \"\"\"Calculate the centroid of a list of nodes.\"\"\"\n",
    "    x_coords = [node[0] for node in nodes]\n",
    "    y_coords = [node[1] for node in nodes]\n",
    "    centroid_x = sum(x_coords) / len(nodes)\n",
    "    centroid_y = sum(y_coords) / len(nodes)\n",
    "    return (centroid_x, centroid_y)\n",
    "\n",
    "beaches_centroids = {}\n",
    "\n",
    "# Handle nodes:\n",
    "for node in nodes:\n",
    "    beach_name = node['name']\n",
    "    if beach_name not in beaches_centroids:\n",
    "        beaches_centroids[beach_name] = node['location']\n",
    "\n",
    "# Handle ways:\n",
    "for way in ways:\n",
    "    beach_name = way['name']\n",
    "    if beach_name not in beaches_centroids:\n",
    "        beaches_centroids[beach_name] = get_centroid(way['nodes'])\n",
    "\n",
    "# Handle relations:\n",
    "for relation in relations:\n",
    "    beach_name = relation['name']\n",
    "    if beach_name not in beaches_centroids:\n",
    "        # For each way in the relation, retrieve its nodes and calculate its centroid\n",
    "        relation_centroids = [get_centroid([(node.lon, node.lat) for node in way.nodes]) for way in relation['ways']]\n",
    "        beaches_centroids[beach_name] = get_centroid(relation_centroids)\n",
    "\n",
    "# Save to CSV\n",
    "with open('2_Beaches.csv', 'w', newline='') as csvfile:\n",
    "    fieldnames = ['Beach Name', 'Longitude', 'Latitude']\n",
    "    writer = csv.DictWriter(csvfile, fieldnames=fieldnames)\n",
    "    \n",
    "    writer.writeheader()\n",
    "    for name, location in beaches_centroids.items():\n",
    "        writer.writerow({'Beach Name': name, 'Longitude': location[0], 'Latitude': location[1]})\n"
   ]
  },
  {
   "cell_type": "code",
   "execution_count": 64,
   "id": "68cbb58a-d57d-41c6-a557-47b87da05d93",
   "metadata": {},
   "outputs": [
    {
     "name": "stdout",
     "output_type": "stream",
     "text": [
      "Data written to '2_beaches.csv'\n"
     ]
    }
   ],
   "source": [
    "import csv\n",
    "\n",
    "# Combine all data\n",
    "all_centroids = {\n",
    "    \"Beaches\": beaches_centroids,\n",
    "}\n",
    "\n",
    "# Write data to CSV with UTF-8 encoding\n",
    "with open(\"2_beaches.csv\", \"w\", newline='', encoding='utf-8') as csv_file:\n",
    "    writer = csv.writer(csv_file)\n",
    "    # Write header\n",
    "    writer.writerow([\"Type\", \"Name\", \"Longitude\", \"Latitude\"])\n",
    "    \n",
    "    for category, centroids in all_centroids.items():\n",
    "        for name, location in centroids.items():\n",
    "            if location != \"No Centroid\":\n",
    "                writer.writerow([category, name, location[0], location[1]])\n",
    "            else:\n",
    "                writer.writerow([category, name, \"No Centroid\", \"No Centroid\"])\n",
    "\n",
    "print(\"Data written to '2_beaches.csv'\")"
   ]
  },
  {
   "cell_type": "code",
   "execution_count": 65,
   "id": "a2d53cfc-6b1b-4fa0-877a-46e5cbed57c7",
   "metadata": {},
   "outputs": [],
   "source": [
    "import pandas as pd\n",
    "\n",
    "# Assuming you've loaded your data into a DataFrame named 'df'\n",
    "df = pd.read_csv('2_Beaches.csv')\n",
    "\n",
    "# Reordering the columns\n",
    "df = df[['Type', 'Name', 'Latitude', 'Longitude']]\n",
    "\n",
    "# Saving it back to the CSV (or to a new CSV if you prefer)\n",
    "df.to_csv('2_Beaches_right_order.csv', index=False)"
   ]
  },
  {
   "cell_type": "code",
   "execution_count": 66,
   "id": "d03740be-9a00-4161-8a46-32f96b2065a8",
   "metadata": {},
   "outputs": [
    {
     "name": "stdout",
     "output_type": "stream",
     "text": [
      "215 beaches were outside Denmark and have been removed.\n"
     ]
    }
   ],
   "source": [
    "import geopandas as gpd\n",
    "import pandas as pd\n",
    "\n",
    "# 1. Load the Denmark boundary shapefile\n",
    "denmark_boundary = gpd.read_file(\"2_Danmark Shapefile/DNK_adm0.shp\")\n",
    "\n",
    "# 2. Load the CSV data for the beaches\n",
    "beaches_df = pd.read_csv('2_Beaches_right_order.csv')\n",
    "\n",
    "# Convert the CSV dataframe to a geodataframe\n",
    "gdf_beaches = gpd.GeoDataFrame(beaches_df, \n",
    "                               geometry=gpd.points_from_xy(beaches_df.Longitude, beaches_df.Latitude))\n",
    "\n",
    "# 3. Check if each beach is within Denmark's boundary\n",
    "# The resulting object is a Boolean Series\n",
    "in_denmark = gdf_beaches.geometry.within(denmark_boundary.at[0, 'geometry'])\n",
    "\n",
    "# 4. Filter the beaches that are inside Denmark's boundary\n",
    "beaches_inside_denmark = gdf_beaches[in_denmark]\n",
    "\n",
    "# 5. Save the filtered data back to a new CSV\n",
    "beaches_inside_denmark.drop(columns='geometry').to_csv('2_beaches_inside_denmark.csv', index=False)\n",
    "\n",
    "print(f\"{len(beaches_df) - len(beaches_inside_denmark)} beaches were outside Denmark and have been removed.\")"
   ]
  },
  {
   "cell_type": "markdown",
   "id": "6a0baf96",
   "metadata": {},
   "source": [
    "### 4. Combining the Geospacial data:"
   ]
  },
  {
   "cell_type": "code",
   "execution_count": 67,
   "id": "c39a0a62-c62a-4792-a4e0-e3b7cc4ef84c",
   "metadata": {},
   "outputs": [
    {
     "name": "stdout",
     "output_type": "stream",
     "text": [
      "Data from the three CSV files has been successfully combined and saved to '2_Final_Geospatial_data.csv'.\n"
     ]
    }
   ],
   "source": [
    "# Load the data from the three CSV files into pandas DataFrames\n",
    "stations_df = pd.read_csv(\"2_stations_inside_denmark.csv\")\n",
    "beaches_df = pd.read_csv(\"2_beaches_inside_denmark.csv\")\n",
    "geospatial_df = pd.read_csv(\"2_geospatial_inside_denmark.csv\")\n",
    "\n",
    "# Combine the three DataFrames into a single DataFrame\n",
    "combined_df = pd.concat([stations_df, beaches_df, geospatial_df], ignore_index=True)\n",
    "\n",
    "# Save the combined data to a new CSV file\n",
    "combined_df.to_csv(\"2_Final_Geospatial_data.csv\", index=False)\n",
    "\n",
    "print(\"Data from the three CSV files has been successfully combined and saved to '2_Final_Geospatial_data.csv'.\")"
   ]
  }
 ],
 "metadata": {
  "kernelspec": {
   "display_name": "Python 3 (ipykernel)",
   "language": "python",
   "name": "python3"
  },
  "language_info": {
   "codemirror_mode": {
    "name": "ipython",
    "version": 3
   },
   "file_extension": ".py",
   "mimetype": "text/x-python",
   "name": "python",
   "nbconvert_exporter": "python",
   "pygments_lexer": "ipython3",
   "version": "3.9.16"
  }
 },
 "nbformat": 4,
 "nbformat_minor": 5
}
