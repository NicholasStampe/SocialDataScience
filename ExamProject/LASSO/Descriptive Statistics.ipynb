{
 "cells": [
  {
   "cell_type": "code",
   "execution_count": 1,
   "id": "c6ede31e-8b97-4dba-bc3d-801d4e691192",
   "metadata": {},
   "outputs": [
    {
     "name": "stdout",
     "output_type": "stream",
     "text": [
      "       Monthly rent  Square meters        Rooms\n",
      "count   9967.000000    9967.000000  9967.000000\n",
      "mean    8093.853918      81.252734     2.733671\n",
      "std     3983.200250      28.416187     0.953504\n",
      "min     1541.000000       2.000000     1.000000\n",
      "25%     5495.000000      62.000000     2.000000\n",
      "50%     7210.000000      80.000000     3.000000\n",
      "75%     9772.500000      97.000000     3.000000\n",
      "max    50000.000000     340.000000     8.000000\n"
     ]
    }
   ],
   "source": [
    "import pandas as pd\n",
    "\n",
    "# Load the data\n",
    "data = pd.read_csv(\"4_Final_Data.csv\")\n",
    "\n",
    "# Extracting the required columns\n",
    "selected_columns = [\"Monthly rent\", \"Square meters\", \"Rooms\"]\n",
    "\n",
    "# Getting descriptive statistics\n",
    "desc_stats = data[selected_columns].describe()\n",
    "\n",
    "print(desc_stats)"
   ]
  },
  {
   "cell_type": "code",
   "execution_count": null,
   "id": "15d1bb8e-bcbf-48f4-bf0c-38e3a8bbb480",
   "metadata": {},
   "outputs": [],
   "source": []
  },
  {
   "cell_type": "code",
   "execution_count": null,
   "id": "9f011459-0463-4bcc-98c9-e5a8f7641fec",
   "metadata": {},
   "outputs": [],
   "source": []
  },
  {
   "cell_type": "code",
   "execution_count": null,
   "id": "bf90bc1b-667a-4897-96cc-6d6b2bf8af73",
   "metadata": {},
   "outputs": [],
   "source": []
  }
 ],
 "metadata": {
  "kernelspec": {
   "display_name": "Python 3 (ipykernel)",
   "language": "python",
   "name": "python3"
  },
  "language_info": {
   "codemirror_mode": {
    "name": "ipython",
    "version": 3
   },
   "file_extension": ".py",
   "mimetype": "text/x-python",
   "name": "python",
   "nbconvert_exporter": "python",
   "pygments_lexer": "ipython3",
   "version": "3.9.16"
  }
 },
 "nbformat": 4,
 "nbformat_minor": 5
}
