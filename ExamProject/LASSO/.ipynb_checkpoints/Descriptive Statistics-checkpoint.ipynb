{
 "cells": [
  {
   "cell_type": "code",
   "execution_count": null,
   "id": "c6ede31e-8b97-4dba-bc3d-801d4e691192",
   "metadata": {},
   "outputs": [],
   "source": [
    "import pandas as pd\n",
    "\n",
    "# Load the data\n",
    "data = pd.read_csv(\"4_Final_Data.csv\")\n",
    "\n",
    "# Extracting the required columns\n",
    "selected_columns = [\"Monthly rent\", \"Square meters\", \"Rooms\"]\n",
    "\n",
    "# Getting descriptive statistics\n",
    "desc_stats = data[selected_columns].describe()\n",
    "\n",
    "print(desc_stats)"
   ]
  },
  {
   "cell_type": "code",
   "execution_count": null,
   "id": "15d1bb8e-bcbf-48f4-bf0c-38e3a8bbb480",
   "metadata": {},
   "outputs": [],
   "source": []
  },
  {
   "cell_type": "code",
   "execution_count": null,
   "id": "9f011459-0463-4bcc-98c9-e5a8f7641fec",
   "metadata": {},
   "outputs": [],
   "source": []
  },
  {
   "cell_type": "code",
   "execution_count": null,
   "id": "bf90bc1b-667a-4897-96cc-6d6b2bf8af73",
   "metadata": {},
   "outputs": [],
   "source": []
  }
 ],
 "metadata": {
  "kernelspec": {
   "display_name": "Python 3 (ipykernel)",
   "language": "python",
   "name": "python3"
  },
  "language_info": {
   "name": ""
  }
 },
 "nbformat": 4,
 "nbformat_minor": 5
}
