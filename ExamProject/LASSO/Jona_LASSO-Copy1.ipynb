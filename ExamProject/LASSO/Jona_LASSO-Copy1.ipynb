{
 "cells": [
  {
   "cell_type": "markdown",
   "metadata": {
    "ExecuteTime": {
     "end_time": "2017-08-23T15:30:03.634114Z",
     "start_time": "2017-08-23T15:30:03.629294Z"
    }
   },
   "source": [
    "# Videos and Exercises for Session 11: Regression and Regularization\n",
    "\n",
    "In this combined teaching module and exercise set, you will learn about linear regression models in a machine learning perspective. We will see how overfitting can arise and how we can tackle it with a modification of the linear regression model.\n",
    "\n",
    "The structure of this notebook is as follows:\n",
    "1. Linear Regression Mechanics\n",
    "2. Overfitting and Underfitting in Linear Regression\n",
    "    - Exploring Overfitting in Linear Regression\n",
    "    - A Cure for Overfitting in Linear Regression\n",
    "3. Modelling Houseprices (Exercise)"
   ]
  },
  {
   "cell_type": "markdown",
   "metadata": {},
   "source": [
    "## Packages\n",
    "First, we need to import our standard stuff. Notice that we are not interested in seeing the convergence warning in scikit-learn, so we suppress them for now."
   ]
  },
  {
   "cell_type": "code",
   "execution_count": 1,
   "metadata": {},
   "outputs": [],
   "source": [
    "import warnings\n",
    "from sklearn.exceptions import ConvergenceWarning\n",
    "warnings.filterwarnings(action='ignore', category=ConvergenceWarning)\n",
    "\n",
    "import matplotlib.pyplot as plt\n",
    "import numpy as np \n",
    "import pandas as pd \n",
    "import seaborn as sns\n",
    "\n",
    "%matplotlib inline"
   ]
  },
  {
   "cell_type": "markdown",
   "metadata": {},
   "source": [
    "# Part 1: Linear Regression Mechanics\n",
    "## Implementing and evaluating the gradient decent \n",
    " \n",
    "Normally we use OLS to estimate linear regression models, but this is only way of solving the problem of minimizing the least squares problem (that minimizes the sum of squared errors). In the video below we show how to implement gradient descent below and compare it along with other approximate solutions to OLS."
   ]
  },
  {
   "cell_type": "markdown",
   "metadata": {},
   "source": [
    "## Overblik over Exercise 11.1 og formålet med opgaven"
   ]
  },
  {
   "cell_type": "markdown",
   "metadata": {},
   "source": [
    "- Ex. 11.1.0: Importing Data:\n",
    "- - Purpose: To get comfortable with loading datasets using libraries like Seaborn. Loading and exploring data is the first step in any data analysis task.\n",
    "- Ex. 11.1.1: Data Preprocessing:\n",
    "- - Purpose: Understand how to prepare data by converting categorical variables into a format suitable for machine learning. This step ensures the dataset is in the right shape for model training.\n",
    "- Ex. 11.1.2: Train-Test Split:\n",
    "- - Purpose: Recognize the importance of splitting data into training and testing subsets. This allows for model validation and helps prevent overfitting.\n",
    "- Ex. 11.1.3: Feature Normalization:\n",
    "- - Purpose: Grasp the importance of scaling features so that they have a similar scale. It helps algorithms converge faster and leads to better model performance.\n",
    "- Ex. 11.1.4: Compute Error:\n",
    "- - Purpose: Understand the concept of prediction error. It's the difference between the predicted and actual values. Reducing this error is the main goal of training a machine learning model.\n",
    "- Ex. 11.1.5: Weight Update Mechanism:\n",
    "- - Purpose: Introduce the core logic of gradient descent. Here, the weight of each feature is adjusted iteratively to minimize the prediction error.\n",
    "- Ex. 11.1.6: Weight Initialization and Iteration:\n",
    "- - Purpose: Understand the importance of weight initialization and how iterative updates (using the logic from the previous exercise) help in model optimization.\n",
    "- Ex. 11.1.7: Model Validation and Visualization:\n",
    "- - Purpose: Validate the custom-built gradient descent solution against a standard library implementation, ensuring its correctness. Visualizing the error helps understand how well the model is performing.\n"
   ]
  },
  {
   "cell_type": "markdown",
   "metadata": {},
   "source": [
    "We continue straight to an exercise where you are to implement a new estimator that we code up from scratch. We solve the numerical optimization using the gradient decent algorithm. This will be very similar to what we just saw in the video, but we will pay a bit more attention to each step in the process.\n",
    "\n",
    "Using our algorithm, we will fit it to some data, and compare our own solution to the standard solution from `sklearn`"
   ]
  },
  {
   "cell_type": "markdown",
   "metadata": {},
   "source": [
    "> **Ex. 11.1.0**: Import the dataset `tips` from the `seaborn`.\n",
    "\n",
    "\n",
    "*Hint*: use the `load_dataset` method in seaborn"
   ]
  },
  {
   "cell_type": "code",
   "execution_count": 2,
   "metadata": {
    "deletable": false,
    "nbgrader": {
     "cell_type": "code",
     "checksum": "6e812556b5b6774ba76a4a1ccb89a169",
     "grade": false,
     "grade_id": "cell-2dd56f36f76bce57",
     "locked": false,
     "schema_version": 3,
     "solution": true,
     "task": false
    }
   },
   "outputs": [],
   "source": [
    "# Load the CSV file from your computer\n",
    "Data = pd.read_csv('Data_wo_outliers.csv')\n",
    "\n"
   ]
  },
  {
   "cell_type": "code",
   "execution_count": 3,
   "metadata": {},
   "outputs": [],
   "source": [
    "# Dropping the first two columns\n"
   ]
  },
  {
   "cell_type": "markdown",
   "metadata": {},
   "source": [
    "> **Ex. 11.1.1**:Restructure the data so we get a dataset `y` containing the variable tip, and a dataset `X` containing the \n",
    "features. \n",
    "\n"
   ]
  },
  {
   "cell_type": "code",
   "execution_count": 4,
   "metadata": {
    "deletable": false,
    "nbgrader": {
     "cell_type": "code",
     "checksum": "2ce55b897e3acd6727916dffe21150f6",
     "grade": false,
     "grade_id": "cell-2e42eb4f59160bed",
     "locked": false,
     "schema_version": 3,
     "solution": true,
     "task": false
    }
   },
   "outputs": [],
   "source": [
    "# YOUR CODE HERE\n",
    "y = Data['Monthly rent'] #will contain the values from the \"Monthly rent\" column. (Target)\n",
    "X = Data.drop('Monthly rent', axis=1) #will contain the values from all other columns, excluding \"Monthly rent\" (features)\n"
   ]
  },
  {
   "cell_type": "markdown",
   "metadata": {},
   "source": [
    "> **Ex. 11.1.2**: Divide the features and target into test and train data. Make the split 50 pct. of each. The split data should be called `X_train`, `X_test`, `y_train`, `y_test`.\n",
    "\n",
    "> *Hint*: You may use `train_test_split` in `sklearn.model_selection`."
   ]
  },
  {
   "cell_type": "code",
   "execution_count": 5,
   "metadata": {
    "deletable": false,
    "nbgrader": {
     "cell_type": "code",
     "checksum": "eb3675bb8e21477c6f5c76f67a3a5ed0",
     "grade": false,
     "grade_id": "cell-ba197171f1b2bfef",
     "locked": false,
     "schema_version": 3,
     "solution": true,
     "task": false
    }
   },
   "outputs": [],
   "source": [
    "from sklearn.model_selection import train_test_split\n",
    "\n",
    "# Splitting the data into training and testing sets (70% training, 30% testing)\n",
    "X_train, X_test, y_train, y_test = train_test_split(X, y, test_size=0.3, random_state=42)\n"
   ]
  },
  {
   "cell_type": "markdown",
   "metadata": {},
   "source": [
    "> **Ex. 11.1.3**: Normalize your features by converting to zero mean and one std. deviation.\n",
    "\n",
    "> *Hint*: Take a look at `StandardScaler` in `sklearn.preprocessing`. If in doubt about which distribution to scale, you may read [this post](https://stats.stackexchange.com/questions/174823/how-to-apply-standardization-normalization-to-train-and-testset-if-prediction-i)."
   ]
  },
  {
   "cell_type": "code",
   "execution_count": 6,
   "metadata": {
    "deletable": false,
    "nbgrader": {
     "cell_type": "code",
     "checksum": "5a4d5e2ed6417f454e18385a2804a19b",
     "grade": false,
     "grade_id": "cell-8ab591d5927be1d5",
     "locked": false,
     "schema_version": 3,
     "solution": true,
     "task": false
    }
   },
   "outputs": [],
   "source": [
    "from sklearn.preprocessing import StandardScaler\n",
    "\n",
    "scaler = StandardScaler()\n",
    "X_train = scaler.fit_transform(X_train)\n",
    "X_test = scaler.transform(X_test)\n"
   ]
  },
  {
   "cell_type": "markdown",
   "metadata": {},
   "source": [
    "> **Ex. 11.1.4**: Make a function called `compute_error` to compute the prediction errors given input target `y_`, input features `X_` and input weights `w_`. You should use matrix multiplication.\n",
    ">\n",
    "> *Hint:* You can use the net-input fct. from yesterday.\n",
    "\n"
   ]
  },
  {
   "cell_type": "code",
   "execution_count": 7,
   "metadata": {
    "deletable": false,
    "nbgrader": {
     "cell_type": "code",
     "checksum": "b03c6de7d3488e832c4d3eb123587e17",
     "grade": false,
     "grade_id": "cell-a70101715bbbb443",
     "locked": false,
     "schema_version": 3,
     "solution": true,
     "task": false
    }
   },
   "outputs": [],
   "source": [
    "# YOUR CODE HERE\n",
    "def compute_error(y_, X_, w_):\n",
    "    \"\"\"Compute the prediction errors.\"\"\"\n",
    "    predictions = X_.dot(w_)\n",
    "    errors = y_ - predictions\n",
    "    return errors\n"
   ]
  },
  {
   "cell_type": "markdown",
   "metadata": {},
   "source": [
    "> **Ex. 11.1.5**: Make a function to update the weights given input target `y_`, input features `X_` and input weights `w_` as well as learning rate, $\\eta$, i.e. greek `eta`. You should use matrix multiplication."
   ]
  },
  {
   "cell_type": "code",
   "execution_count": 8,
   "metadata": {},
   "outputs": [],
   "source": [
    "# INCLUDED IN ASSIGNMENT 2"
   ]
  },
  {
   "cell_type": "code",
   "execution_count": 9,
   "metadata": {
    "deletable": false,
    "nbgrader": {
     "cell_type": "code",
     "checksum": "6cd45bb01781e944c41227e59873a6df",
     "grade": false,
     "grade_id": "cell-049443f1aafb8903",
     "locked": false,
     "schema_version": 3,
     "solution": true,
     "task": false
    }
   },
   "outputs": [],
   "source": [
    "# YOUR CODE HERE\n",
    "def update_weights(y_, X_, w_, eta):\n",
    "    # Compute the prediction errors\n",
    "    errors = y_ - np.dot(X_, w_[1:]) - w_[0]\n",
    "    \n",
    "    # Update the weights using the gradient descent formula\n",
    "    w_[1:] += eta * X_.T.dot(errors)\n",
    "    w_[0] += eta * errors.sum()\n",
    "    \n",
    "    return w_\n"
   ]
  },
  {
   "cell_type": "markdown",
   "metadata": {},
   "source": [
    "> **Ex. 11.1.6**: Use the code below to initialize weights `w` at zero given feature set `X`. Notice how we include an extra weight that includes the bias term. Set the learning rate `eta` to 0.001. Make a loop with 50 iterations where you iteratively apply your weight updating function. \n",
    "\n",
    ">```python\n",
    "w = np.zeros(1+X_train.shape[1])\n",
    "```"
   ]
  },
  {
   "cell_type": "code",
   "execution_count": 10,
   "metadata": {},
   "outputs": [],
   "source": [
    "# INCLUDED IN ASSIGNMENT 2"
   ]
  },
  {
   "cell_type": "code",
   "execution_count": 11,
   "metadata": {
    "deletable": false,
    "nbgrader": {
     "cell_type": "code",
     "checksum": "6308f5593a6e65ab57b86368ceef6669",
     "grade": false,
     "grade_id": "cell-74c4170d3d5fe322",
     "locked": false,
     "schema_version": 3,
     "solution": true,
     "task": false
    }
   },
   "outputs": [],
   "source": [
    "# YOUR CODE HERE\n",
    "w = np.zeros(1+X_train.shape[1]) # Initialize weights\n",
    "eta = 0.001 # Learning rate\n",
    "\n",
    "# Iteratively update weights\n",
    "for _ in range(50):\n",
    "    w = update_weights(y_train, X_train, w, eta)\n"
   ]
  },
  {
   "cell_type": "markdown",
   "metadata": {},
   "source": [
    "> **Ex. 11.1.7**: Make a function to compute the mean squared error. Alter the loop so it makes 100 iterations and computes the MSE for test and train after each iteration, plot these in one figure. \n",
    "\n",
    "> Hint: You can use the following code to check that your model works:\n",
    ">```python\n",
    "from sklearn.linear_model import LinearRegression\n",
    "reg = LinearRegression()\n",
    "reg.fit(X_train, y_train)\n",
    "assert((w[1:] - reg.coef_).sum() < 0.01)\n",
    "```"
   ]
  },
  {
   "cell_type": "markdown",
   "metadata": {},
   "source": [
    "The code updates the weights over 100 iterations, computes the MSE for both the training and test datasets at each iteration, and finally plots these MSE values using the pd.Series(...).plot() commands you mentioned."
   ]
  },
  {
   "cell_type": "code",
   "execution_count": 12,
   "metadata": {
    "deletable": false,
    "nbgrader": {
     "cell_type": "code",
     "checksum": "863ac125b673cb711cfc5269a05d1bf5",
     "grade": false,
     "grade_id": "cell-5cabc75ac6152434",
     "locked": false,
     "schema_version": 3,
     "solution": true,
     "task": false
    }
   },
   "outputs": [
    {
     "data": {
      "image/png": "[encoded data removed]",
      "text/plain": [
       "<Figure size 640x480 with 1 Axes>"
      ]
     },
     "metadata": {},
     "output_type": "display_data"
    },
    {
     "data": {
      "text/plain": [
       "<Axes: >"
      ]
     },
     "execution_count": 12,
     "metadata": {},
     "output_type": "execute_result"
    },
    {
     "data": {
      "image/png": "[encoded data removed]",
      "text/plain": [
       "<Figure size 640x480 with 1 Axes>"
      ]
     },
     "metadata": {},
     "output_type": "display_data"
    }
   ],
   "source": [
    "# YOUR CODE HERE\n",
    "# Function to compute mean squared error\n",
    "def compute_mse(y, X, w):\n",
    "    # Add a column of ones to X for the bias term\n",
    "    X = np.c_[np.ones(X.shape[0]), X]\n",
    "    \n",
    "    # Compute the predictions\n",
    "    y_pred = np.dot(X, w)\n",
    "    \n",
    "    # Compute the mean squared error\n",
    "    mse = ((y - y_pred) ** 2).mean()\n",
    "    \n",
    "    return mse\n",
    "\n",
    "w = np.zeros(1+X_train.shape[1]) # Initialize weights\n",
    "eta = 0.001 # Learning rate\n",
    "\n",
    "MSE_train = []  # list to store MSE values for training data\n",
    "MSE_test = []   # list to store MSE values for testing data\n",
    "\n",
    "# Iteratively update weights\n",
    "for _ in range(100):\n",
    "    w = update_weights(y_train, X_train, w, eta)\n",
    "    MSE_train.append(compute_mse(y_train, X_train, w))\n",
    "    MSE_test.append(compute_mse(y_test, X_test, w))\n",
    "\n",
    "# Plotting the MSE values using pandas Series\n",
    "pd.Series(MSE_train).plot(label='Train MSE')\n",
    "pd.Series(MSE_test).plot(label='Test MSE')\n",
    "plt.xlabel('Iteration')\n",
    "plt.ylabel('MSE')\n",
    "plt.legend()\n",
    "plt.title('Mean Squared Error over iterations')\n",
    "plt.show()\n",
    "\n",
    "pd.Series(MSE_train).plot()\n",
    "pd.Series(MSE_test).plot()"
   ]
  },
  {
   "cell_type": "markdown",
   "metadata": {},
   "source": [
    "# Part 2: Overfitting and Underfitting in Linear Regression \n",
    "\n",
    "## Exploring Overfitting in Linear Regression\n",
    "How does overfitting manifest itself in linear regression? In the video below we simulate what happens as make a better and better taylor approximation, i.e. we estimate a polynomial of higher and higher order. Two issues arise simultaneously - one is related to the number of parameters and the to the size of the parameters. "
   ]
  },
  {
   "cell_type": "code",
   "execution_count": 13,
   "metadata": {
    "deletable": false,
    "nbgrader": {
     "cell_type": "code",
     "checksum": "04b4c075a4bad7561c1e03bf809f7faf",
     "grade": false,
     "grade_id": "cell-6aa146e9c530b2b4",
     "locked": false,
     "schema_version": 3,
     "solution": true,
     "task": false
    }
   },
   "outputs": [],
   "source": [
    "# YOUR CODE HERE\n",
    "#raise NotImplementedError()"
   ]
  },
  {
   "cell_type": "markdown",
   "metadata": {},
   "source": [
    "# Part 3: Modelling Houseprices\n",
    "In this example, we will try to predict houseprices using a lot of variable (or features as they are called in Machine Learning). We are going to work with Kaggle's dataset on house prices, see information [here](https://www.kaggle.com/c/house-prices-advanced-regression-techniques). Kaggle is an organization that hosts competitions in building predictive models."
   ]
  },
  {
   "cell_type": "markdown",
   "metadata": {},
   "source": [
    "> **Ex. 11.3.0:** Load the california housing data with scikit-learn using the code below. Now:\n",
    "> 1. Inspect *cal_house*. How are the data stored?\n",
    "> 2. Create a pandas DataFrame called *X*, using `data`. Name the columns using `feature_names`.\n",
    "> 3. Crate a pandas Series called *y* using `target`.\n",
    "> 4. Make a train test split of equal size."
   ]
  },
  {
   "cell_type": "code",
   "execution_count": 14,
   "metadata": {
    "deletable": false,
    "nbgrader": {
     "cell_type": "code",
     "checksum": "08ca919735b17dfbf96058bf07f4eeab",
     "grade": false,
     "grade_id": "cell-5f14e576643ac94c",
     "locked": false,
     "schema_version": 3,
     "solution": true,
     "task": false
    }
   },
   "outputs": [],
   "source": [
    "from sklearn.datasets import fetch_california_housing\n",
    "from sklearn.model_selection import train_test_split\n",
    "\n",
    "#cal_house = fetch_california_housing()\n",
    "\n",
    "# 1. The data in cal_house is stored as a Bunch object - similar to a dictionary.\n",
    "# 2. Create a pandas DataFrame for the features\n",
    "#X = pd.DataFrame(data=cal_house['data'], columns=cal_house['feature_names'])\n",
    "\n",
    "# 3. Create a pandas Series for the target variable\n",
    "#y = pd.Series(cal_house['target'])\n",
    "\n",
    "# 4. Make a train-test split of equal size\n",
    "#X_train, X_test, y_train, y_test = train_test_split(X, y, test_size=0.5, random_state=42)\n"
   ]
  },
  {
   "cell_type": "markdown",
   "metadata": {},
   "source": [
    "\n",
    "\n",
    "> **Ex.11.3.1**: Generate interactions between all features to third degree (make sure you **exclude** the bias/intercept term). How many variables are there? Will OLS fail? After making interactions, rescale the features to have zero mean, unit std. deviation. Should you use the distribution of the training data to rescale the test data?  \n",
    "\n",
    "> *Hint 1*: Try importing `PolynomialFeatures` from `sklearn.preprocessing`\n",
    "\n",
    "> *Hint 2*: If in doubt about which distribution to scale, you may read [this post](https://stats.stackexchange.com/questions/174823/how-to-apply-standardization-normalization-to-train-and-testset-if-prediction-i)."
   ]
  },
  {
   "cell_type": "code",
   "execution_count": 15,
   "metadata": {},
   "outputs": [],
   "source": [
    "# INCLUDED IN ASSIGNMENT 2"
   ]
  },
  {
   "cell_type": "code",
   "execution_count": 16,
   "metadata": {
    "deletable": false,
    "nbgrader": {
     "cell_type": "code",
     "checksum": "ed00cd67cc7a2e431594d4cfe29da085",
     "grade": false,
     "grade_id": "cell-4aacfe9c22772c42",
     "locked": false,
     "schema_version": 3,
     "solution": true,
     "task": false
    }
   },
   "outputs": [
    {
     "name": "stdout",
     "output_type": "stream",
     "text": [
      "There are 405 variables after generating interactions up to the third degree.\n"
     ]
    }
   ],
   "source": [
    "# YOUR CODE HERE\n",
    "from sklearn.preprocessing import PolynomialFeatures, StandardScaler\n",
    "\n",
    "# Generate 3rd degree polynomial features (excluding the bias/intercept term)\n",
    "poly = PolynomialFeatures(degree=2, include_bias=False)\n",
    "X_train_poly = poly.fit_transform(X_train)\n",
    "X_test_poly = poly.transform(X_test)\n",
    "\n",
    "# Number of variables\n",
    "num_vars = X_train_poly.shape[1]\n",
    "print(f\"There are {num_vars} variables after generating interactions up to the third degree.\")\n",
    "\n",
    "# Rescale the features to have zero mean and unit std. deviation\n",
    "# We use the distribution of the training data to rescale the test data\n",
    "scaler = StandardScaler().fit(X_train_poly)\n",
    "X_train_poly_scaled = scaler.transform(X_train_poly)\n",
    "X_test_poly_scaled = scaler.transform(X_test_poly)\n"
   ]
  },
  {
   "cell_type": "markdown",
   "metadata": {},
   "source": [
    "> **Ex.11.3.2**: Estimate the Lasso model on the rescaled train data set, using values of $\\lambda$ in the range from $10^{-4}$ to $10^4$. For each $\\lambda$  calculate and save the Root Mean Squared Error (RMSE) for the rescaled test and train data. Take a look at the fitted coefficients for different sizes of $\\lambda$. What happens when $\\lambda$ increases? Why?\n",
    "\n",
    "> *Hint 1*: use `logspace` in numpy to create the range.\n",
    "\n",
    "> *Hint 2*: read about the `coef_` feature [here](https://scikit-learn.org/stable/modules/generated/sklearn.linear_model.Lasso.html#sklearn.linear_model.Lasso).\n"
   ]
  },
  {
   "cell_type": "code",
   "execution_count": 17,
   "metadata": {},
   "outputs": [],
   "source": [
    "# INCLUDED IN ASSIGNMENT 2"
   ]
  },
  {
   "cell_type": "code",
   "execution_count": 18,
   "metadata": {
    "deletable": false,
    "nbgrader": {
     "cell_type": "code",
     "checksum": "a5cb040dc44fd9a9f591f1193a1311ab",
     "grade": false,
     "grade_id": "cell-d981c29cec05057b",
     "locked": false,
     "schema_version": 3,
     "solution": true,
     "task": false
    }
   },
   "outputs": [
    {
     "name": "stderr",
     "output_type": "stream",
     "text": [
      "Computing RMSE for Lasso:   1%|▌                                                     | 1/100 [00:42<1:09:48, 42.31s/it]"
     ]
    },
    {
     "name": "stdout",
     "output_type": "stream",
     "text": [
      "\n",
      "Lambda: 0.0001\n",
      "Coefficients: [-9.66714394e+01  1.88678886e+03  1.28887371e+02  8.35801909e+01\n",
      " -1.15447765e+01  2.95239229e+02  1.52214396e+03  1.03543769e+03\n",
      "  2.71704274e+02  1.79498798e+02  2.02272686e+02  2.12823176e+02\n",
      " -3.86204953e+03  1.51631773e+03  7.13294986e+02  8.04031428e+02\n",
      "  1.08981132e+03  3.20539641e+02  2.45862233e+02  1.70375903e+02\n",
      " -6.34311326e+02 -2.97322465e+01 -1.91877426e+03 -2.04106437e+01\n",
      " -3.54124193e+02 -3.04913336e+02 -2.05133484e+02 -5.16451691e+01\n",
      "  3.88053704e+02 -1.87489525e+02  2.76122770e+01  6.86446970e+01\n",
      "  1.15635689e+01 -1.31593931e+01  1.26918292e+02 -1.18179989e+02\n",
      "  6.01712905e+01 -2.39043238e+01 -2.41790071e+01 -1.07934484e+02\n",
      " -9.61238736e+00 -9.31572802e+00 -1.35144101e+01 -5.33640874e+01\n",
      "  4.83968256e+00  6.14876406e+00  1.44335033e+01  1.95872417e+00\n",
      " -4.28796979e+01  3.79964489e+01  2.58092211e+01  8.51831463e+00\n",
      " -1.49712955e+01 -2.26843860e+01 -3.11279451e+02  1.13224047e+02\n",
      "  2.35156064e+02  1.54762790e+02 -7.78014117e+01  1.54148129e+02\n",
      " -8.33407886e+01  1.75122365e+02 -4.16171974e+02  1.19315599e+02\n",
      "  2.25317540e+02  3.75944527e+02  6.86435311e+02 -3.21690353e+01\n",
      " -1.60508977e+02  3.58910556e+01 -1.47169012e+02 -8.31259462e+01\n",
      " -6.77758365e+01  1.49724808e+02  3.70719965e+01 -2.73767908e+02\n",
      " -3.35433048e+01 -7.42459582e+01 -4.72957854e+01  2.60090003e+01\n",
      " -1.59808586e+02 -1.78440497e+02 -2.15152024e+02  8.93817265e+01\n",
      " -5.16101008e+01  1.70000738e+02 -9.39144540e+01  2.43395872e+02\n",
      " -6.81610392e+01 -1.12090700e+02  5.87319017e+01 -2.35737224e+02\n",
      "  4.53595932e+01  1.46756066e+02  1.73023578e+01  3.48649349e+01\n",
      " -1.00354562e+01 -8.52406985e+00 -2.39173034e+01 -4.34680327e+01\n",
      "  4.84911870e+01  8.79004971e+00  1.54212420e+01  2.36053055e+01\n",
      " -1.06311858e+02 -1.17606138e+01  2.42448930e+01  1.57856178e+00\n",
      " -2.94747002e+01 -1.15041756e+01  2.77751258e+01  3.00299774e+01\n",
      "  7.12935597e+01 -7.49133125e+00 -1.51027058e+02 -7.57099413e+01\n",
      " -1.28992318e+01 -8.12731357e+01 -3.85550274e+01 -7.21612322e+01\n",
      " -5.24613367e+01  9.97187261e+00  6.95663306e+01 -2.15863837e+01\n",
      " -1.26377160e+02  6.44950742e+01 -4.16154283e+01  7.33572220e+00\n",
      " -2.15487583e+01  2.59065366e+02  2.48691127e+01  6.97299302e+01\n",
      " -9.87286927e+01 -4.51676580e+01 -3.59520156e+01  1.90974433e+01\n",
      "  3.34375332e+01 -1.06599548e+01 -6.78388330e+01  2.79388224e+01\n",
      " -1.44996819e+01 -4.01139736e+01 -6.31419435e+01  6.99999998e+01\n",
      "  2.29918307e+01 -1.57451425e+01 -1.35118072e+02  4.93417071e+01\n",
      "  1.91951166e+00  8.77796772e+01 -1.00753281e+02 -2.66881757e+01\n",
      " -2.11891256e+02 -4.99427735e+00 -3.60498572e+01  8.37530284e+01\n",
      "  4.22358646e+01 -5.50940340e+00 -4.14146378e+01  4.52694672e+01\n",
      "  2.46239363e+01 -1.94151919e+01 -1.67670321e+01  7.74174783e-01\n",
      "  8.69442285e+00 -1.48405936e+01  1.46501997e+01 -8.41669778e+00\n",
      " -3.52567369e+01 -5.10872406e+01  2.91841682e+00  1.38294083e+01\n",
      "  3.28400717e+01  6.92921847e+00 -1.35468152e+03 -1.03994829e+02\n",
      "  5.47093692e+01  1.46540629e+00 -7.31426101e+00 -4.16574948e+01\n",
      "  6.65180551e+01 -2.01779454e+02  2.15564562e+01  1.42878603e+01\n",
      " -2.58326845e+01  2.17693746e+00 -4.19328180e+01  3.73114183e+01\n",
      " -1.66006756e+01 -6.02944931e+01 -2.39481194e+01  1.30552741e+01\n",
      "  5.87927299e+00  7.65841104e+00 -4.74093305e+01 -6.03935174e+02\n",
      " -6.14331114e+01 -3.90462292e+01  5.45345269e+01  5.27140866e+01\n",
      "  2.36221243e+01 -3.02701291e+01 -4.38131825e+01 -1.24155865e+01\n",
      "  2.29579243e+01 -2.81688983e+01  4.14425288e+01 -1.95504776e+01\n",
      "  1.32296895e+01  2.29082993e+01  2.98715048e+00  1.01799459e+01\n",
      " -1.51983042e+01 -6.15054904e+01  7.02387345e+01 -1.96819747e+02\n",
      "  1.47340543e+01 -4.04449940e+01 -5.02042948e+01  8.24211932e+01\n",
      " -4.93257273e+01 -3.57524699e+01  3.78744643e+01  7.51884681e+01\n",
      "  3.98051485e+01 -2.19747663e+01  9.46822773e+00 -3.90981413e+01\n",
      " -9.70742769e+00 -1.41870665e-02  3.47975318e+01 -1.98754708e+01\n",
      "  3.01660966e+01 -2.95016419e+01 -1.95577542e+02  4.64799173e+01\n",
      "  1.59552778e+01  1.51091841e+02 -5.04895861e+01 -4.74177001e+01\n",
      " -1.60312681e+01 -1.40788412e+01 -2.25106958e+01  1.78448941e+01\n",
      "  6.72112793e+00  1.06409344e+01  1.31113583e+01 -1.83650648e+01\n",
      " -8.94655932e+00  1.63760346e+01 -1.52506743e+01  2.86517618e+01\n",
      " -2.01064005e+01  2.27709295e+00 -8.46822112e+01 -1.20846627e+02\n",
      "  1.76504541e+01  3.37378007e+01 -4.69555697e+01 -4.92886903e+01\n",
      " -3.62516259e+00  4.52025448e+01 -1.64640738e+01  3.61359166e+01\n",
      "  6.64068106e+01  5.00388036e+01 -3.01535113e+01  1.79752542e+01\n",
      " -3.02523129e+01 -1.59105219e+02 -2.26177827e+01  4.40666243e+01\n",
      "  3.36097699e+01 -9.81641942e+00 -1.80458884e+00  1.03690843e+01\n",
      "  1.60350114e+01 -3.82255581e+01  2.25543192e+01 -4.27524651e+01\n",
      "  4.63117613e+01 -4.85247905e+01  1.53388520e+01 -2.63090093e+01\n",
      "  2.18068001e+01 -1.10725886e+02 -4.64293994e+01  8.07269962e+01\n",
      "  3.15637954e+01  5.98468608e+01  2.28030102e+01 -8.42039887e+00\n",
      " -9.91170477e+01 -2.20666134e+02 -2.06393259e+02 -5.16744886e+03\n",
      "  5.81626773e+01  4.13970100e+02 -6.65229283e+02  5.70559781e+02\n",
      "  5.66927919e+02 -9.84121214e+01 -2.93299859e+01  1.31164219e+02\n",
      "  1.45553330e+02  1.67913965e+02 -3.00345710e+02 -8.13378457e+02\n",
      "  1.08207729e+02 -5.11865548e+02 -3.85289392e+01 -1.22176610e+02\n",
      " -3.02581144e+02  2.87699732e+02  1.34520575e+02 -1.06695926e+02\n",
      " -3.21551858e+01 -1.53110636e+01  6.80788001e+01 -6.14765727e+01\n",
      " -4.66168784e+01 -5.76358285e+00  1.94201036e+02 -1.76325069e+01\n",
      "  2.48384368e+01  1.19909624e+02 -9.53938044e+01  1.31930682e+02\n",
      " -1.56950518e+02 -6.75845611e+01  4.89475817e+01 -6.38343646e+01\n",
      " -8.19302667e+01 -6.60016298e+01 -7.82304681e+01  1.15178493e+02\n",
      "  7.66324621e+00 -4.50391113e+00  1.90612742e+01  2.33187321e+02\n",
      " -2.55912032e+02 -1.12250328e+02 -1.66489597e+02 -1.34958711e+02\n",
      " -1.13146684e+02  4.03467916e+02  1.26485555e+02 -2.52316112e+01\n",
      "  4.43564351e+00 -1.32160547e+01  1.73801662e+02 -2.08890980e+02\n",
      " -2.88895318e+02 -2.82476698e+02 -1.24648227e+02  3.10661542e+02\n",
      "  1.09780023e+02  6.28982910e+01  4.69075361e+00  2.64070542e+02\n",
      "  2.48086236e+02 -4.87353708e+02 -4.02407354e+02 -9.59899539e+01\n",
      "  3.00979215e+02 -7.53484506e+00  7.63254648e+01  6.29025463e+01\n",
      "  1.69253975e+01  8.73076107e+02 -1.29670634e+03 -1.73503970e+02\n",
      " -7.56546491e+01  1.11873821e+02  2.03607304e+01  5.91667990e+01\n",
      "  2.23834300e+01  4.06568661e+02 -1.11570262e+02  4.75336419e+02\n",
      "  2.42926088e+01  5.52303391e+01  3.62226031e+01 -1.71784195e+01\n",
      "  4.17630760e+01 -1.12686874e+02  9.13217313e+01  5.22676532e+01\n",
      "  3.16455198e+01  5.99607497e+00  7.64899659e+02  5.88150194e+01\n",
      " -1.01137931e+01 -6.17244586e+01  3.39514556e+02  1.71577533e+02\n",
      " -1.22803692e+02 -7.33375559e+01 -6.91843640e+01  8.56894967e+01\n",
      "  4.39617264e+01 -1.07414064e+01 -1.26739395e+02 -6.01347475e+01\n",
      " -1.07554263e+01]\n"
     ]
    },
    {
     "name": "stderr",
     "output_type": "stream",
     "text": [
      "Computing RMSE for Lasso: 100%|██████████████████████████████████████████████████████| 100/100 [47:35<00:00, 28.56s/it]"
     ]
    },
    {
     "name": "stdout",
     "output_type": "stream",
     "text": [
      "\n",
      "Lambda: 10000.0\n",
      "Coefficients: [ 0.  0.  0.  0.  0.  0.  0.  0.  0. -0.  0.  0.  0.  0.  0.  0. -0. -0.\n",
      " -0. -0. -0. -0. -0. -0. -0. -0. -0.  0.  0.  0.  0.  0. -0.  0.  0.  0.\n",
      "  0.  0.  0.  0.  0.  0. -0. -0. -0. -0. -0. -0. -0. -0. -0. -0. -0. -0.\n",
      "  0.  0.  0. -0. -0.  0.  0.  0.  0.  0.  0.  0.  0.  0.  0. -0. -0. -0.\n",
      " -0. -0. -0. -0. -0. -0. -0. -0.  0.  0. -0. -0.  0.  0.  0.  0.  0.  0.\n",
      "  0.  0.  0.  0. -0. -0. -0. -0. -0. -0. -0. -0. -0. -0. -0.  0.  0. -0.\n",
      "  0.  0.  0. -0.  0.  0.  0.  0. -0. -0. -0. -0. -0. -0. -0.  0. -0.  0.\n",
      "  0.  0.  0.  0.  0. -0. -0. -0. -0. -0.  0.  0. -0. -0. -0. -0. -0.  0.\n",
      " -0. -0.  0. -0. -0.  0.  0.  0.  0. -0.  0.  0.  0. -0.  0. -0. -0. -0.\n",
      " -0.  0.  0. -0.  0.  0.  0.  0. -0.  0.  0.  0.  0.  0.  0. -0.  0.  0.\n",
      " -0.  0.  0. -0. -0. -0. -0. -0. -0. -0. -0.  0. -0. -0. -0.  0.  0. -0.\n",
      "  0.  0.  0.  0. -0. -0. -0. -0. -0. -0. -0. -0. -0.  0. -0. -0. -0.  0.\n",
      "  0.  0.  0. -0.  0. -0.  0. -0. -0. -0. -0. -0. -0. -0. -0. -0. -0. -0.\n",
      " -0.  0.  0. -0. -0. -0. -0.  0. -0. -0.  0.  0.  0.  0. -0.  0. -0.  0.\n",
      "  0.  0. -0.  0. -0. -0. -0. -0. -0. -0. -0.  0. -0.  0. -0. -0.  0.  0.\n",
      " -0.  0.  0. -0. -0. -0. -0. -0. -0. -0. -0. -0. -0. -0. -0.  0. -0. -0.\n",
      " -0. -0. -0. -0. -0. -0. -0. -0. -0. -0. -0. -0.  0. -0. -0. -0. -0. -0.\n",
      " -0. -0. -0. -0. -0. -0. -0. -0.  0. -0. -0. -0. -0. -0. -0.  0. -0. -0.\n",
      "  0.  0. -0.  0.  0.  0.  0.  0.  0.  0.  0. -0.  0.  0.  0. -0.  0.  0.\n",
      "  0.  0. -0.  0.  0.  0.  0.  0. -0.  0.  0.  0. -0.  0. -0. -0. -0. -0.\n",
      " -0.  0.  0.  0.  0. -0.  0. -0.  0. -0.  0.  0.  0.  0.  0.  0.  0. -0.\n",
      "  0. -0. -0.  0.  0.  0. -0.  0. -0. -0. -0. -0. -0.  0.  0.  0.  0. -0.\n",
      " -0. -0. -0. -0. -0. -0. -0. -0. -0.]\n"
     ]
    },
    {
     "name": "stderr",
     "output_type": "stream",
     "text": [
      "\n"
     ]
    }
   ],
   "source": [
    "# Increase the print options for NumPy arrays to display all elements\n",
    "np.set_printoptions(threshold=np.inf)\n",
    "\n",
    "from tqdm import tqdm\n",
    "\n",
    "# YOUR CODE HERE\n",
    "from sklearn.linear_model import Lasso\n",
    "from sklearn.metrics import mean_squared_error\n",
    "import numpy as np\n",
    "\n",
    "# Range for lambda\n",
    "lambdas = np.logspace(-4, 4, 100)\n",
    "\n",
    "train_rmse = []\n",
    "test_rmse = []\n",
    "\n",
    "# Wrap the loop with tqdm for progress bar\n",
    "for lam in tqdm(lambdas, desc=\"Computing RMSE for Lasso\"):\n",
    "    lasso = Lasso(alpha=lam, max_iter=10000)  # Increased max_iter for convergence\n",
    "    lasso.fit(X_train_poly_scaled, y_train)\n",
    "    \n",
    "    # Training RMSE\n",
    "    y_pred_train = lasso.predict(X_train_poly_scaled)\n",
    "    mse_train = mean_squared_error(y_train, y_pred_train)\n",
    "    train_rmse.append(np.sqrt(mse_train))\n",
    "    \n",
    "    # Test RMSE\n",
    "    y_pred_test = lasso.predict(X_test_poly_scaled)\n",
    "    mse_test = mean_squared_error(y_test, y_pred_test)\n",
    "    test_rmse.append(np.sqrt(mse_test))\n",
    "    \n",
    "    # For observation: Print coefficients for a few lambdas\n",
    "    if lam in [1e-4, 1e-2, 1, 1e2, 1e4]:\n",
    "        print(f\"\\nLambda: {lam}\")\n",
    "        print(\"Coefficients:\", lasso.coef_)\n",
    "        \n",
    "# After the loop, you can reset the print options if needed\n",
    "np.set_printoptions(threshold=1000)  # Reset threshold to default\n"
   ]
  },
  {
   "cell_type": "code",
   "execution_count": null,
   "metadata": {},
   "outputs": [],
   "source": []
  },
  {
   "cell_type": "markdown",
   "metadata": {},
   "source": [
    "Lambda: 0.0001 - Here, many coefficients are non-zero, and some are close to zero, which is expected with a small lambda in Lasso regularization.\n",
    "Lambda: 10000.0 - All coefficients are either zero or extremely close to zero, which is also expected since a high lambda value in Lasso pushes most coefficients towards zero due to the regularization penalty."
   ]
  },
  {
   "cell_type": "markdown",
   "metadata": {},
   "source": [
    "> **Ex.11.3.3**: Make a plot with the lambdas on the x-axis and the RMSE measures on the y-axis. What happens to RMSE for train and test data as $\\lambda$ increases? The x-axis should be log scaled. Which one are we interested in minimizing? \n",
    "\n",
    "> Bonus: Can you find the lambda that gives the lowest MSE-test score?"
   ]
  },
  {
   "cell_type": "code",
   "execution_count": 19,
   "metadata": {},
   "outputs": [],
   "source": [
    "# INCLUDED IN ASSIGNMENT 2"
   ]
  },
  {
   "cell_type": "code",
   "execution_count": 20,
   "metadata": {
    "deletable": false,
    "nbgrader": {
     "cell_type": "code",
     "checksum": "3469299a7668bf4275e2824d1d454144",
     "grade": false,
     "grade_id": "cell-5a2846b33750acbc",
     "locked": false,
     "schema_version": 3,
     "solution": true,
     "task": false
    }
   },
   "outputs": [
    {
     "data": {
      "image/png": "[encoded data removed]",
      "text/plain": [
       "<Figure size 1000x600 with 1 Axes>"
      ]
     },
     "metadata": {},
     "output_type": "display_data"
    },
    {
     "name": "stdout",
     "output_type": "stream",
     "text": [
      "The lambda that gives the lowest MSE-test score is: 0.9111627561154896\n"
     ]
    }
   ],
   "source": [
    "# INCLUDED IN ASSIGNMENT 2# YOUR CODE HERE\n",
    "import matplotlib.pyplot as plt\n",
    "from matplotlib.ticker import ScalarFormatter\n",
    "\n",
    "# Plot RMSE against lambdas\n",
    "plt.figure(figsize=(10, 6))\n",
    "plt.plot(lambdas, train_rmse, label='Train RMSE', color='blue')\n",
    "plt.plot(lambdas, test_rmse, label='Test RMSE', color='red')\n",
    "plt.xscale('log')\n",
    "plt.xlabel('Lambda')\n",
    "plt.ylabel('RMSE')\n",
    "plt.legend()\n",
    "plt.title('RMSE vs. Lambda')\n",
    "\n",
    "# Format x-axis ticks as decimal numbers\n",
    "plt.gca().xaxis.set_major_formatter(ScalarFormatter())\n",
    "\n",
    "plt.show()\n",
    "\n",
    "# Bonus: Lambda that gives the lowest MSE-test score\n",
    "min_rmse_idx = test_rmse.index(min(test_rmse))\n",
    "best_lambda = lambdas[min_rmse_idx]\n",
    "print(f\"The lambda that gives the lowest MSE-test score is: {best_lambda}\")\n"
   ]
  },
  {
   "cell_type": "markdown",
   "metadata": {},
   "source": [
    "## Forklarende tekst til den sidste exercise (forklaring af plottet)"
   ]
  },
  {
   "cell_type": "markdown",
   "metadata": {},
   "source": [
    "Red Line (Test RMSE):\n",
    "\n",
    "Goes Down: Initially, as you increase the strength of regularization (i.e., increase lambda), the model becomes less overfit to the training data, and thus the test error might reduce.\n",
    "Goes Up: After a certain point, increasing lambda results in too much regularization. This causes the model to become underfit, meaning it's too simple to capture the underlying patterns in the data. As a result, both training and test error can start to increase.\n",
    "Becomes Stable: At very high lambda values, most of the coefficients in the Lasso regression approach zero. Therefore, further increases in lambda have minimal impact on the model's predictions, resulting in a relatively stable error.\n",
    "Blue Line (Train RMSE):\n",
    "\n",
    "Goes Up: As lambda increases, the model becomes more regularized and thus more biased. This results in an increase in the training error.\n",
    "Becomes Stable: Similar to the test RMSE, at high lambda values, the model becomes very simple, and further increases in lambda have minimal effect.\n",
    "When interpreting this:\n",
    "\n",
    "The lambda that minimizes the test RMSE is the optimal value as it strikes a balance between bias and variance.\n",
    "If the training RMSE is significantly lower than the test RMSE across most lambda values, it indicates that the model might be overfitting the training data.\n",
    "The stable pattern after a certain point simply indicates that the model has become too simple to learn any more from the data."
   ]
  },
  {
   "cell_type": "markdown",
   "metadata": {},
   "source": [
    "**Lambda=0 then no penalty**"
   ]
  },
  {
   "cell_type": "code",
   "execution_count": null,
   "metadata": {},
   "outputs": [],
   "source": []
  },
  {
   "cell_type": "code",
   "execution_count": null,
   "metadata": {},
   "outputs": [],
   "source": []
  },
  {
   "cell_type": "code",
   "execution_count": null,
   "metadata": {},
   "outputs": [],
   "source": []
  },
  {
   "cell_type": "code",
   "execution_count": null,
   "metadata": {},
   "outputs": [],
   "source": []
  },
  {
   "cell_type": "code",
   "execution_count": null,
   "metadata": {},
   "outputs": [],
   "source": []
  },
  {
   "cell_type": "code",
   "execution_count": null,
   "metadata": {},
   "outputs": [],
   "source": []
  },
  {
   "cell_type": "code",
   "execution_count": null,
   "metadata": {},
   "outputs": [],
   "source": []
  },
  {
   "cell_type": "code",
   "execution_count": null,
   "metadata": {},
   "outputs": [],
   "source": []
  },
  {
   "cell_type": "code",
   "execution_count": null,
   "metadata": {},
   "outputs": [],
   "source": []
  },
  {
   "cell_type": "code",
   "execution_count": null,
   "metadata": {},
   "outputs": [],
   "source": []
  }
 ],
 "metadata": {
  "kernelspec": {
   "display_name": "Python 3 (ipykernel)",
   "language": "python",
   "name": "python3"
  },
  "language_info": {
   "codemirror_mode": {
    "name": "ipython",
    "version": 3
   },
   "file_extension": ".py",
   "mimetype": "text/x-python",
   "name": "python",
   "nbconvert_exporter": "python",
   "pygments_lexer": "ipython3",
   "version": "3.10.9"
  },
  "nav_menu": {},
  "toc": {
   "navigate_menu": true,
   "number_sections": false,
   "sideBar": true,
   "threshold": 6,
   "toc_cell": false,
   "toc_section_display": "block",
   "toc_window_display": true
  },
  "varInspector": {
   "cols": {
    "lenName": 16,
    "lenType": 16,
    "lenVar": 40
   },
   "kernels_config": {
    "python": {
     "delete_cmd_postfix": "",
     "delete_cmd_prefix": "del ",
     "library": "var_list.py",
     "varRefreshCmd": "print(var_dic_list())"
    },
    "r": {
     "delete_cmd_postfix": ") ",
     "delete_cmd_prefix": "rm(",
     "library": "var_list.r",
     "varRefreshCmd": "cat(var_dic_list()) "
    }
   },
   "types_to_exclude": [
    "module",
    "function",
    "builtin_function_or_method",
    "instance",
    "_Feature"
   ],
   "window_display": false
  }
 },
 "nbformat": 4,
 "nbformat_minor": 4
}
