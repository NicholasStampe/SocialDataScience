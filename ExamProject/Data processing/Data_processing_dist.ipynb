{
 "cells": [
  {
   "cell_type": "code",
   "execution_count": 2,
   "metadata": {},
   "outputs": [
    {
     "name": "stdout",
     "output_type": "stream",
     "text": [
      "Collecting geopy\n",
      "  Downloading geopy-2.3.0-py3-none-any.whl (119 kB)\n",
      "     -------------------------------------- 119.8/119.8 kB 2.3 MB/s eta 0:00:00\n",
      "Collecting geographiclib<3,>=1.52\n",
      "  Downloading geographiclib-2.0-py3-none-any.whl (40 kB)\n",
      "     ---------------------------------------- 40.3/40.3 kB ? eta 0:00:00\n",
      "Installing collected packages: geographiclib, geopy\n",
      "Successfully installed geographiclib-2.0 geopy-2.3.0\n",
      "Note: you may need to restart the kernel to use updated packages.\n"
     ]
    }
   ],
   "source": [
    "pip install geopy"
   ]
  },
  {
   "cell_type": "code",
   "execution_count": 3,
   "metadata": {},
   "outputs": [],
   "source": [
    "# Import packages\n",
    "import pandas as pd\n",
    "import numpy as np\n",
    "import matplotlib.pyplot as plt\n",
    "import geopandas as gpd\n",
    "from scipy.spatial.distance import cdist\n",
    "from geopy.distance import geodesic\n",
    "\n",
    "# Import data\n",
    "df_rent = pd.read_csv('BP_Final_Data_for_processing.csv')\n",
    "df_geo = pd.read_csv('GS_Final_Data_for_processing.csv')\n"
   ]
  },
  {
   "cell_type": "code",
   "execution_count": 4,
   "metadata": {},
   "outputs": [
    {
     "ename": "NameError",
     "evalue": "name 'df_coordinates' is not defined",
     "output_type": "error",
     "traceback": [
      "\u001b[1;31m---------------------------------------------------------------------------\u001b[0m",
      "\u001b[1;31mNameError\u001b[0m                                 Traceback (most recent call last)",
      "Cell \u001b[1;32mIn[4], line 35\u001b[0m\n\u001b[0;32m     29\u001b[0m     coordinates_dict[\u001b[38;5;124mf\u001b[39m\u001b[38;5;124m\"\u001b[39m\u001b[38;5;124mclosest_\u001b[39m\u001b[38;5;132;01m{\u001b[39;00mobj_type\u001b[38;5;132;01m}\u001b[39;00m\u001b[38;5;124m_longitude\u001b[39m\u001b[38;5;124m\"\u001b[39m] \u001b[38;5;241m=\u001b[39m [coord[\u001b[38;5;241m1\u001b[39m] \u001b[38;5;28;01mfor\u001b[39;00m coord \u001b[38;5;129;01min\u001b[39;00m closest_coordinates]\n\u001b[0;32m     31\u001b[0m     \u001b[38;5;66;03m# Calculate the distances using geodesic and store in distances_dict for all object types\u001b[39;00m\n\u001b[0;32m     32\u001b[0m     distances_dict[\u001b[38;5;124mf\u001b[39m\u001b[38;5;124m\"\u001b[39m\u001b[38;5;124mdistance_to_\u001b[39m\u001b[38;5;132;01m{\u001b[39;00mobj_type\u001b[38;5;132;01m}\u001b[39;00m\u001b[38;5;124m\"\u001b[39m] \u001b[38;5;241m=\u001b[39m [geodesic((apt_lat, apt_lon), (obj_lat, obj_lon))\u001b[38;5;241m.\u001b[39mkilometers\n\u001b[0;32m     33\u001b[0m                                                  \u001b[38;5;28;01mfor\u001b[39;00m apt_lat, apt_lon, obj_lat, obj_lon\n\u001b[0;32m     34\u001b[0m                                                  \u001b[38;5;129;01min\u001b[39;00m \u001b[38;5;28mzip\u001b[39m(df_rent[\u001b[38;5;124m'\u001b[39m\u001b[38;5;124mLatitude\u001b[39m\u001b[38;5;124m'\u001b[39m], df_rent[\u001b[38;5;124m'\u001b[39m\u001b[38;5;124mLongitude\u001b[39m\u001b[38;5;124m'\u001b[39m],\n\u001b[1;32m---> 35\u001b[0m                                                         \u001b[43mdf_coordinates\u001b[49m[\u001b[38;5;124mf\u001b[39m\u001b[38;5;124m\"\u001b[39m\u001b[38;5;124mclosest_\u001b[39m\u001b[38;5;132;01m{\u001b[39;00mobj_type\u001b[38;5;132;01m}\u001b[39;00m\u001b[38;5;124m_latitude\u001b[39m\u001b[38;5;124m\"\u001b[39m],\n\u001b[0;32m     36\u001b[0m                                                         df_coordinates[\u001b[38;5;124mf\u001b[39m\u001b[38;5;124m\"\u001b[39m\u001b[38;5;124mclosest_\u001b[39m\u001b[38;5;132;01m{\u001b[39;00mobj_type\u001b[38;5;132;01m}\u001b[39;00m\u001b[38;5;124m_longitude\u001b[39m\u001b[38;5;124m\"\u001b[39m])]\n\u001b[0;32m     38\u001b[0m \u001b[38;5;66;03m# Create a new dataframe to store the coordinates\u001b[39;00m\n\u001b[0;32m     39\u001b[0m df_coordinates \u001b[38;5;241m=\u001b[39m pd\u001b[38;5;241m.\u001b[39mDataFrame(coordinates_dict)\n",
      "\u001b[1;31mNameError\u001b[0m: name 'df_coordinates' is not defined"
     ]
    }
   ],
   "source": [
    "# Calculate the distance from each apartment to the nearest object of each type:\n",
    "\n",
    "# Create a list of unique types from df_geo\n",
    "unique_types = df_geo['Type'].unique()\n",
    "\n",
    "# Initialize dictionaries to store distances and coordinates for each type\n",
    "distances_dict = {}\n",
    "coordinates_dict = {}\n",
    "\n",
    "# Loop through each unique type and calculate distances\n",
    "for obj_type in unique_types:\n",
    "    # Filter df_geo to get only the specific type\n",
    "    df_type = df_geo[df_geo['Type'] == obj_type]\n",
    "    \n",
    "    # Create a matrix of distances between apartments and objects of the specific type\n",
    "    distances = cdist(df_rent[['Latitude', 'Longitude']], df_type[['Latitude', 'Longitude']])\n",
    "    \n",
    "    # Find the minimum distance for each apartment\n",
    "    min_distances = np.min(distances, axis=1)\n",
    "    \n",
    "    # Find the index of the closest object for each apartment\n",
    "    min_indices = np.argmin(distances, axis=1)\n",
    "    \n",
    "    # Get the corresponding coordinates for the closest object\n",
    "    closest_coordinates = [(df_type.iloc[idx]['Latitude'], df_type.iloc[idx]['Longitude']) for idx in min_indices]\n",
    "    \n",
    "    # Store the closest coordinates in the coordinates dictionary with descriptive column names\n",
    "    coordinates_dict[f\"closest_{obj_type}_latitude\"] = [coord[0] for coord in closest_coordinates]\n",
    "    coordinates_dict[f\"closest_{obj_type}_longitude\"] = [coord[1] for coord in closest_coordinates]\n",
    "\n",
    "    # Calculate the distances using geodesic and store in distances_dict for all object types\n",
    "    distances_dict[f\"distance_to_{obj_type}\"] = [geodesic((apt_lat, apt_lon), (obj_lat, obj_lon)).kilometers\n",
    "                                                 for apt_lat, apt_lon, obj_lat, obj_lon\n",
    "                                                 in zip(df_rent['Latitude'], df_rent['Longitude'],\n",
    "                                                        df_coordinates[f\"closest_{obj_type}_latitude\"],\n",
    "                                                        df_coordinates[f\"closest_{obj_type}_longitude\"])]\n",
    "\n",
    "# Create a new dataframe to store the coordinates\n",
    "df_coordinates = pd.DataFrame(coordinates_dict)\n",
    "\n",
    "# Create a new dataframe to store the distances\n",
    "df_distances = pd.DataFrame(distances_dict)\n",
    "\n",
    "# Concatenate df_rent, df_coordinates, and df_distances\n",
    "df_result = pd.concat([df_rent, df_coordinates, df_distances], axis=1)\n",
    "\n",
    "df_result\n"
   ]
  },
  {
   "cell_type": "code",
   "execution_count": null,
   "metadata": {},
   "outputs": [],
   "source": [
    "# Clean up the table:\n",
    "# Drop the columns with coordinates for the objects\n",
    "columns_to_drop = [col for col in df_result.columns if \"_latitude\" in col or \"_longitude\" in col]\n",
    "df_result_cleaned = df_result.drop(columns=columns_to_drop)\n",
    "\n",
    "# Drop the \"Property type\" column\n",
    "df_result_cleaned = df_result_cleaned.drop(columns=[\"Property type\"])\n",
    "# Drop the \"City\" column\n",
    "df_result_cleaned = df_result_cleaned.drop(columns=[\"City\"])\n",
    "# Drop the \"Postal code\" column\n",
    "df_result_cleaned = df_result_cleaned.drop(columns=[\"Postal code\"])\n",
    "\n",
    "# Rename the distance columns\n",
    "column_rename_mapping = {\n",
    "    \"distance_to_Public Transport Stations\": \"Distance to Transport Station (km)\",\n",
    "    \"distance_to_Beaches\": \"Distance to Beach (km)\",\n",
    "    \"distance_to_Schools\": \"Distance to School (km)\",\n",
    "    \"distance_to_Restaurants\": \"Distance to Restaurant (km)\",\n",
    "    \"distance_to_Hospitals\": \"Distance to Hospital (km)\",\n",
    "    \"distance_to_Malls\": \"Distance to Mall (km)\",\n",
    "}\n",
    "\n",
    "df_result_cleaned = df_result_cleaned.rename(columns=column_rename_mapping)\n",
    "\n",
    "# Save the cleaned table\n",
    "df_result_cleaned.to_csv(\"Final_Data.csv\", index=False)\n",
    "\n",
    "df_result_cleaned.head(50)"
   ]
  },
  {
   "cell_type": "code",
   "execution_count": null,
   "metadata": {},
   "outputs": [],
   "source": []
  },
  {
   "cell_type": "code",
   "execution_count": null,
   "metadata": {},
   "outputs": [],
   "source": []
  },
  {
   "cell_type": "code",
   "execution_count": null,
   "metadata": {},
   "outputs": [],
   "source": []
  }
 ],
 "metadata": {
  "kernelspec": {
   "display_name": "Python 3 (ipykernel)",
   "language": "python",
   "name": "python3"
  },
  "language_info": {
   "codemirror_mode": {
    "name": "ipython",
    "version": 3
   },
   "file_extension": ".py",
   "mimetype": "text/x-python",
   "name": "python",
   "nbconvert_exporter": "python",
   "pygments_lexer": "ipython3",
   "version": "3.9.16"
  }
 },
 "nbformat": 4,
 "nbformat_minor": 4
}
