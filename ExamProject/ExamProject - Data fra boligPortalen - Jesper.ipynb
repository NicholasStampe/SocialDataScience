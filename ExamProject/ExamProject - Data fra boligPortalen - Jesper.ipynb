{
 "cells": [
  {
   "cell_type": "code",
   "execution_count": 4,
   "metadata": {},
   "outputs": [],
   "source": [
    "# Import packages:\n",
    "from bs4 import BeautifulSoup\n",
    "import pandas as pd\n",
    "import numpy as np\n",
    "import matplotlib.pyplot as plt\n",
    "import requests\n",
    "warnings.filterwarnings('ignore')\n",
    "\n",
    "\n",
    "# Define function to get the data from the website: BoligPortal \n",
    "# Define our url to scrape from:\n",
    "url1 = 'https://www.boligportal.dk/lejeboliger/?min_rental_period=0'\n",
    "\n",
    "# Connect to site:\n",
    "response = requests.get(url1)\n",
    "\n",
    "# parse data with BeautifulSoup:\n",
    "soup = BeautifulSoup(response.content, 'lxml')\n",
    "\n",
    "# Find links to the individual ads:\n",
    "links = soup.find_all('a', class_='AdCardSrp__Link css-17x8ssx')"
   ]
  },
  {
   "cell_type": "code",
   "execution_count": 5,
   "metadata": {},
   "outputs": [
    {
     "data": {
      "text/plain": [
       "['/lejligheder/give/78m2-3-vaer-id-5197365',\n",
       " '/lejligheder/oure/60m2-2-vaer-id-5378062',\n",
       " '/lejligheder/hirtshals/65m2-2-vaer-id-5378060',\n",
       " '/huse/aabybro/79m2-3-vaer-id-5378059',\n",
       " '/lejligheder/viborg/139m2-4-vaer-id-5378057',\n",
       " '/lejligheder/aalborg/54m2-2-vaer-id-5378056',\n",
       " '/lejligheder/k%C3%B8benhavn/31m2-1-vaer-id-5265659',\n",
       " '/lejligheder/s%C3%B8nderborg/50m2-2-vaer-id-5309385',\n",
       " '/lejligheder/k%C3%B8benhavn/129m2-3-vaer-id-5111706',\n",
       " '/lejligheder/viborg/71m2-3-vaer-id-5078178',\n",
       " '/lejligheder/viborg/203m2-7-vaer-id-4611621',\n",
       " '/lejligheder/odense/70m2-2-vaer-id-5220652',\n",
       " '/lejligheder/aalborg/152m2-5-vaer-id-5378050',\n",
       " '/lejligheder/aarhus/104m2-2-vaer-id-3084116',\n",
       " '/r%C3%A6kkehuse/aarhus/124m2-4-vaer-id-5378055',\n",
       " '/lejligheder/viborg/88m2-3-vaer-id-5347594',\n",
       " '/lejligheder/greve/62m2-2-vaer-id-5378054',\n",
       " '/r%C3%A6kkehuse/vejle/96m2-4-vaer-id-5378053',\n",
       " '/lejligheder/k%C3%B8benhavn/81m2-2-vaer-id-5364866',\n",
       " '/lejligheder/k%C3%B8benhavn/118m2-4-vaer-id-5364861',\n",
       " '/lejligheder/randers/96m2-3-vaer-id-5338186',\n",
       " '/lejligheder/nyk%C3%B8bing-m/51m2-2-vaer-id-5339392',\n",
       " '/lejligheder/k%C3%B8benhavn/121m2-4-vaer-id-5377751',\n",
       " '/lejligheder/k%C3%B8benhavn/78m2-4-vaer-id-5377638']"
      ]
     },
     "execution_count": 5,
     "metadata": {},
     "output_type": "execute_result"
    }
   ],
   "source": [
    "# Make a list of URLs:\n",
    "# Create empty list:\n",
    "url_list = []\n",
    "\n",
    "# Create a list of URLs:\n",
    "for i in range(len(links)):\n",
    "    url_list.append(links[i]['href'])\n",
    "\n",
    "url_list"
   ]
  },
  {
   "cell_type": "code",
   "execution_count": 11,
   "metadata": {},
   "outputs": [
    {
     "data": {
      "text/plain": [
       "['https://www.boligportal.dk/lejligheder/give/78m2-3-vaer-id-5197365',\n",
       " 'https://www.boligportal.dk/lejligheder/oure/60m2-2-vaer-id-5378062',\n",
       " 'https://www.boligportal.dk/lejligheder/hirtshals/65m2-2-vaer-id-5378060',\n",
       " 'https://www.boligportal.dk/huse/aabybro/79m2-3-vaer-id-5378059',\n",
       " 'https://www.boligportal.dk/lejligheder/viborg/139m2-4-vaer-id-5378057',\n",
       " 'https://www.boligportal.dk/lejligheder/aalborg/54m2-2-vaer-id-5378056',\n",
       " 'https://www.boligportal.dk/lejligheder/k%C3%B8benhavn/31m2-1-vaer-id-5265659',\n",
       " 'https://www.boligportal.dk/lejligheder/s%C3%B8nderborg/50m2-2-vaer-id-5309385',\n",
       " 'https://www.boligportal.dk/lejligheder/k%C3%B8benhavn/129m2-3-vaer-id-5111706',\n",
       " 'https://www.boligportal.dk/lejligheder/viborg/71m2-3-vaer-id-5078178',\n",
       " 'https://www.boligportal.dk/lejligheder/viborg/203m2-7-vaer-id-4611621',\n",
       " 'https://www.boligportal.dk/lejligheder/odense/70m2-2-vaer-id-5220652',\n",
       " 'https://www.boligportal.dk/lejligheder/aalborg/152m2-5-vaer-id-5378050',\n",
       " 'https://www.boligportal.dk/lejligheder/aarhus/104m2-2-vaer-id-3084116',\n",
       " 'https://www.boligportal.dk/r%C3%A6kkehuse/aarhus/124m2-4-vaer-id-5378055',\n",
       " 'https://www.boligportal.dk/lejligheder/viborg/88m2-3-vaer-id-5347594',\n",
       " 'https://www.boligportal.dk/lejligheder/greve/62m2-2-vaer-id-5378054',\n",
       " 'https://www.boligportal.dk/r%C3%A6kkehuse/vejle/96m2-4-vaer-id-5378053',\n",
       " 'https://www.boligportal.dk/lejligheder/k%C3%B8benhavn/81m2-2-vaer-id-5364866',\n",
       " 'https://www.boligportal.dk/lejligheder/k%C3%B8benhavn/118m2-4-vaer-id-5364861',\n",
       " 'https://www.boligportal.dk/lejligheder/randers/96m2-3-vaer-id-5338186',\n",
       " 'https://www.boligportal.dk/lejligheder/nyk%C3%B8bing-m/51m2-2-vaer-id-5339392',\n",
       " 'https://www.boligportal.dk/lejligheder/k%C3%B8benhavn/121m2-4-vaer-id-5377751',\n",
       " 'https://www.boligportal.dk/lejligheder/k%C3%B8benhavn/78m2-4-vaer-id-5377638']"
      ]
     },
     "execution_count": 11,
     "metadata": {},
     "output_type": "execute_result"
    }
   ],
   "source": [
    "# Make final list of working URLs:\n",
    "final_urls = []\n",
    "\n",
    "for url in url_list:\n",
    "    temp_url = 'https://www.boligportal.dk' + url\n",
    "    final_urls.append(temp_url)\n",
    "\n",
    "final_urls"
   ]
  },
  {
   "cell_type": "code",
   "execution_count": null,
   "metadata": {},
   "outputs": [],
   "source": [
    "# List of information we want to scarpe:\n",
    "adress_list = []\n",
    "price_list = []\n",
    "size_list = []\n",
    "\n"
   ]
  }
 ],
 "metadata": {
  "kernelspec": {
   "display_name": "base",
   "language": "python",
   "name": "python3"
  },
  "language_info": {
   "codemirror_mode": {
    "name": "ipython",
    "version": 3
   },
   "file_extension": ".py",
   "mimetype": "text/x-python",
   "name": "python",
   "nbconvert_exporter": "python",
   "pygments_lexer": "ipython3",
   "version": "3.9.16"
  },
  "orig_nbformat": 4
 },
 "nbformat": 4,
 "nbformat_minor": 2
}
