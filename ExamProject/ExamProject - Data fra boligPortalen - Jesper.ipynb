{
 "cells": [
  {
   "cell_type": "code",
   "execution_count": 9,
   "metadata": {},
   "outputs": [],
   "source": [
    "# Import packages:\n",
    "from bs4 import BeautifulSoup\n",
    "import pandas as pd\n",
    "import numpy as np\n",
    "import matplotlib.pyplot as plt\n",
    "import requests\n",
    "import re\n",
    "import seaborn as sns\n",
    "import matplotlib.pyplot as plt\n",
    "import matplotlib.ticker as ticker\n",
    "import matplotlib.animation as animation\n",
    "from IPython.display import HTML\n",
    "import warnings\n",
    "warnings.filterwarnings('ignore')\n",
    "\n",
    "\n",
    "# Define function to get the data from the website: BoligPortal \n",
    "# Define our url to scrape from:\n",
    "url1 = 'https://www.boligportal.dk/lejeboliger/?min_rental_period=0'\n",
    "\n",
    "# Connect to site:\n",
    "response = requests.get(url1)\n",
    "\n",
    "# parse data with BeautifulSoup:\n",
    "soup = BeautifulSoup(response.content, 'lxml')\n",
    "\n",
    "# Find links to the individual ads:\n",
    "links = soup.find_all('a', class_='AdCardSrp__Link css-17x8ssx')"
   ]
  },
  {
   "cell_type": "code",
   "execution_count": 10,
   "metadata": {},
   "outputs": [
    {
     "data": {
      "text/plain": [
       "'/lejligheder/k%C3%B8benhavn/129m2-3-vaer-id-5111706'"
      ]
     },
     "execution_count": 10,
     "metadata": {},
     "output_type": "execute_result"
    }
   ],
   "source": [
    "# Find the first link tag in the HTML:\n",
    "link = links[0]\n",
    "\n",
    "# Get the href attribute from the link tag:\n",
    "href = link['href']\n",
    "\n",
    "href"
   ]
  },
  {
   "cell_type": "code",
   "execution_count": 16,
   "metadata": {},
   "outputs": [
    {
     "data": {
      "text/plain": [
       "['/lejligheder/k%C3%B8benhavn/129m2-3-vaer-id-5111706',\n",
       " '/lejligheder/viborg/71m2-3-vaer-id-5078178',\n",
       " '/lejligheder/viborg/203m2-7-vaer-id-4611621',\n",
       " '/lejligheder/odense/70m2-2-vaer-id-5220652',\n",
       " '/lejligheder/aalborg/152m2-5-vaer-id-5378050',\n",
       " '/lejligheder/aarhus/104m2-2-vaer-id-3084116',\n",
       " '/r%C3%A6kkehuse/aarhus/124m2-4-vaer-id-5378055',\n",
       " '/lejligheder/viborg/88m2-3-vaer-id-5347594',\n",
       " '/lejligheder/greve/62m2-2-vaer-id-5378054',\n",
       " '/r%C3%A6kkehuse/vejle/96m2-4-vaer-id-5378053',\n",
       " '/lejligheder/odense/90m2-3-vaer-id-5249167',\n",
       " '/lejligheder/aarhus/71m2-1-vaer-id-608641',\n",
       " '/lejligheder/aarhus/90m2-3-vaer-id-5378052',\n",
       " '/lejligheder/solr%C3%B8d-strand/127m2-4-vaer-id-5284699',\n",
       " '/lejligheder/aalborg/53m2-2-vaer-id-5378051',\n",
       " '/lejligheder/odense/85m2-3-vaer-id-5088448',\n",
       " '/r%C3%A6kkehuse/vejle/96m2-4-vaer-id-5378049',\n",
       " '/r%C3%A6kkehuse/svendborg/85m2-3-vaer-id-5378048',\n",
       " '/r%C3%A6kkehuse/give/115m2-4-vaer-id-5345605',\n",
       " '/r%C3%A6kkehuse/give/105m2-4-vaer-id-5345617',\n",
       " '/r%C3%A6kkehuse/give/95m2-3-vaer-id-5345608',\n",
       " '/r%C3%A6kkehuse/give/95m2-4-vaer-id-5345620',\n",
       " '/lejligheder/svendborg/88m2-3-vaer-id-5349095',\n",
       " '/lejligheder/aabenraa/141m2-4-vaer-id-5226347']"
      ]
     },
     "execution_count": 16,
     "metadata": {},
     "output_type": "execute_result"
    }
   ],
   "source": [
    "# Make a list of URLs:\n",
    "# Create empty list:\n",
    "url_list = []\n",
    "\n",
    "# Create a list of URLs:\n",
    "for i in range(len(links)):\n",
    "    url_list.append(links[i]['href'])\n",
    "\n",
    "url_list"
   ]
  }
 ],
 "metadata": {
  "kernelspec": {
   "display_name": "base",
   "language": "python",
   "name": "python3"
  },
  "language_info": {
   "codemirror_mode": {
    "name": "ipython",
    "version": 3
   },
   "file_extension": ".py",
   "mimetype": "text/x-python",
   "name": "python",
   "nbconvert_exporter": "python",
   "pygments_lexer": "ipython3",
   "version": "3.9.16"
  },
  "orig_nbformat": 4
 },
 "nbformat": 4,
 "nbformat_minor": 2
}
