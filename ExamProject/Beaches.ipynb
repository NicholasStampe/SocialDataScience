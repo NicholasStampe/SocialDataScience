{
 "cells": [
  {
   "cell_type": "markdown",
   "id": "36ca4714-fae4-443e-a18a-f1f75d0d313c",
   "metadata": {},
   "source": [
    "### Beaches\n"
   ]
  },
  {
   "cell_type": "code",
   "execution_count": 1,
   "id": "11e82d3f-5454-4624-b73d-5ac2f20eeffa",
   "metadata": {},
   "outputs": [
    {
     "name": "stdout",
     "output_type": "stream",
     "text": [
      "Requirement already satisfied: overpy in c:\\users\\user\\anaconda3\\lib\\site-packages (0.6)\n",
      "Note: you may need to restart the kernel to use updated packages.\n"
     ]
    }
   ],
   "source": [
    "pip install overpy\n"
   ]
  },
  {
   "cell_type": "code",
   "execution_count": 2,
   "id": "cd76335a-6f3d-4e83-a14a-e29cc22e8c2f",
   "metadata": {},
   "outputs": [
    {
     "name": "stdout",
     "output_type": "stream",
     "text": [
      "Requirement already satisfied: geopandas in c:\\users\\user\\anaconda3\\lib\\site-packages (0.12.2)\n",
      "Requirement already satisfied: shapely>=1.7 in c:\\users\\user\\anaconda3\\lib\\site-packages (from geopandas) (2.0.1)\n",
      "Requirement already satisfied: fiona>=1.8 in c:\\users\\user\\anaconda3\\lib\\site-packages (from geopandas) (1.8.22)\n",
      "Requirement already satisfied: packaging in c:\\users\\user\\anaconda3\\lib\\site-packages (from geopandas) (22.0)\n",
      "Requirement already satisfied: pyproj>=2.6.1.post1 in c:\\users\\user\\anaconda3\\lib\\site-packages (from geopandas) (2.6.1.post1)\n",
      "Requirement already satisfied: pandas>=1.0.0 in c:\\users\\user\\anaconda3\\lib\\site-packages (from geopandas) (1.5.2)\n",
      "Requirement already satisfied: attrs>=17 in c:\\users\\user\\anaconda3\\lib\\site-packages (from fiona>=1.8->geopandas) (22.1.0)\n",
      "Requirement already satisfied: certifi in c:\\users\\user\\anaconda3\\lib\\site-packages (from fiona>=1.8->geopandas) (2023.5.7)\n",
      "Requirement already satisfied: click>=4.0 in c:\\users\\user\\anaconda3\\lib\\site-packages (from fiona>=1.8->geopandas) (8.0.4)\n",
      "Requirement already satisfied: cligj>=0.5 in c:\\users\\user\\anaconda3\\lib\\site-packages (from fiona>=1.8->geopandas) (0.7.2)\n",
      "Requirement already satisfied: click-plugins>=1.0 in c:\\users\\user\\anaconda3\\lib\\site-packages (from fiona>=1.8->geopandas) (1.1.1)\n",
      "Requirement already satisfied: six>=1.7 in c:\\users\\user\\anaconda3\\lib\\site-packages (from fiona>=1.8->geopandas) (1.16.0)\n",
      "Requirement already satisfied: munch in c:\\users\\user\\anaconda3\\lib\\site-packages (from fiona>=1.8->geopandas) (2.5.0)\n",
      "Requirement already satisfied: setuptools in c:\\users\\user\\anaconda3\\lib\\site-packages (from fiona>=1.8->geopandas) (65.6.3)\n",
      "Requirement already satisfied: pytz>=2020.1 in c:\\users\\user\\anaconda3\\lib\\site-packages (from pandas>=1.0.0->geopandas) (2022.7)\n",
      "Requirement already satisfied: python-dateutil>=2.8.1 in c:\\users\\user\\anaconda3\\lib\\site-packages (from pandas>=1.0.0->geopandas) (2.8.2)\n",
      "Requirement already satisfied: numpy>=1.20.3 in c:\\users\\user\\anaconda3\\lib\\site-packages (from pandas>=1.0.0->geopandas) (1.23.5)\n",
      "Requirement already satisfied: colorama in c:\\users\\user\\anaconda3\\lib\\site-packages (from click>=4.0->fiona>=1.8->geopandas) (0.4.6)\n",
      "Note: you may need to restart the kernel to use updated packages.\n"
     ]
    }
   ],
   "source": [
    "pip install geopandas\n"
   ]
  },
  {
   "cell_type": "code",
   "execution_count": 3,
   "id": "e0ab4d91-1472-4637-8ead-efad1f256734",
   "metadata": {},
   "outputs": [],
   "source": [
    "import overpy\n",
    "\n",
    "api = overpy.Overpass()\n",
    "\n",
    "# Query for beaches in Denmark using a more accurate bounding box\n",
    "result = api.query(\"\"\"\n",
    "[out:json];\n",
    "(\n",
    "  node[\"natural\"=\"beach\"](54.5,8.0,57.9,15.2);\n",
    "  way[\"natural\"=\"beach\"](54.5,8.0,57.9,15.2);\n",
    "  relation[\"natural\"=\"beach\"](54.5,8.0,57.9,15.2);\n",
    ");\n",
    "(._;>;);\n",
    "out body;\n",
    "\"\"\")\n",
    "\n",
    "# Structure the data\n",
    "nodes = [{'name': beach.tags.get('name', 'n/a'), 'location': (beach.lon, beach.lat)} for beach in result.nodes]\n",
    "ways = [{'name': way.tags.get('name', 'n/a'), 'nodes': [(node.lon, node.lat) for node in way.nodes]} for way in result.ways]\n",
    "\n",
    "# For relations, fetch associated ways from the result\n",
    "relations = []\n",
    "for relation in result.relations:\n",
    "    relation_ways = [way for way in result.ways if way.id in [member.ref for member in relation.members if member.role == \"outer\"]]\n",
    "    relations.append({'name': relation.tags.get('name', 'n/a'), 'ways': relation_ways})\n"
   ]
  },
  {
   "cell_type": "code",
   "execution_count": 4,
   "id": "c1d633ba-b5ad-43d1-aac2-b3d9e9e9cdc3",
   "metadata": {},
   "outputs": [],
   "source": [
    "import csv\n",
    "\n",
    "def get_centroid(nodes):\n",
    "    \"\"\"Calculate the centroid of a list of nodes.\"\"\"\n",
    "    x_coords = [node[0] for node in nodes]\n",
    "    y_coords = [node[1] for node in nodes]\n",
    "    centroid_x = sum(x_coords) / len(nodes)\n",
    "    centroid_y = sum(y_coords) / len(nodes)\n",
    "    return (centroid_x, centroid_y)\n",
    "\n",
    "beaches_centroids = {}\n",
    "\n",
    "# Handle nodes:\n",
    "for node in nodes:\n",
    "    beach_name = node['name']\n",
    "    if beach_name not in beaches_centroids:\n",
    "        beaches_centroids[beach_name] = node['location']\n",
    "\n",
    "# Handle ways:\n",
    "for way in ways:\n",
    "    beach_name = way['name']\n",
    "    if beach_name not in beaches_centroids:\n",
    "        beaches_centroids[beach_name] = get_centroid(way['nodes'])\n",
    "\n",
    "# Handle relations:\n",
    "for relation in relations:\n",
    "    beach_name = relation['name']\n",
    "    if beach_name not in beaches_centroids:\n",
    "        # For each way in the relation, retrieve its nodes and calculate its centroid\n",
    "        relation_centroids = [get_centroid([(node.lon, node.lat) for node in way.nodes]) for way in relation['ways']]\n",
    "        beaches_centroids[beach_name] = get_centroid(relation_centroids)\n",
    "\n",
    "# Save to CSV\n",
    "with open('Beaches.csv', 'w', newline='') as csvfile:\n",
    "    fieldnames = ['Beach Name', 'Longitude', 'Latitude']\n",
    "    writer = csv.DictWriter(csvfile, fieldnames=fieldnames)\n",
    "    \n",
    "    writer.writeheader()\n",
    "    for name, location in beaches_centroids.items():\n",
    "        writer.writerow({'Beach Name': name, 'Longitude': location[0], 'Latitude': location[1]})\n"
   ]
  },
  {
   "cell_type": "code",
   "execution_count": 5,
   "id": "a0a5255d-8bc9-452f-9c10-38a055522e57",
   "metadata": {},
   "outputs": [
    {
     "name": "stdout",
     "output_type": "stream",
     "text": [
      "Data written to 'beaches.csv'\n"
     ]
    }
   ],
   "source": [
    "import csv\n",
    "\n",
    "# Combine all data\n",
    "all_centroids = {\n",
    "    \"Beaches\": beaches_centroids,\n",
    "}\n",
    "\n",
    "# Write data to CSV with UTF-8 encoding\n",
    "with open(\"beaches.csv\", \"w\", newline='', encoding='utf-8') as csv_file:\n",
    "    writer = csv.writer(csv_file)\n",
    "    # Write header\n",
    "    writer.writerow([\"Type\", \"Name\", \"Longitude\", \"Latitude\"])\n",
    "    \n",
    "    for category, centroids in all_centroids.items():\n",
    "        for name, location in centroids.items():\n",
    "            if location != \"No Centroid\":\n",
    "                writer.writerow([category, name, location[0], location[1]])\n",
    "            else:\n",
    "                writer.writerow([category, name, \"No Centroid\", \"No Centroid\"])\n",
    "\n",
    "print(\"Data written to 'beaches.csv'\")"
   ]
  },
  {
   "cell_type": "code",
   "execution_count": 6,
   "id": "7f311f58-ebf9-4b20-b70d-8a9beb8aeab2",
   "metadata": {},
   "outputs": [],
   "source": [
    "import pandas as pd\n",
    "\n",
    "# Assuming you've loaded your data into a DataFrame named 'df'\n",
    "df = pd.read_csv('Beaches.csv')\n",
    "\n",
    "# Reordering the columns\n",
    "df = df[['Type', 'Name', 'Latitude', 'Longitude']]\n",
    "\n",
    "# Saving it back to the CSV (or to a new CSV if you prefer)\n",
    "df.to_csv('Beaches_right_order.csv', index=False)"
   ]
  },
  {
   "cell_type": "markdown",
   "id": "c0029a50-2bec-4b8e-ab0f-c4b5d314e171",
   "metadata": {},
   "source": [
    "### Forsøg 1"
   ]
  },
  {
   "cell_type": "code",
   "execution_count": 7,
   "id": "c4db0ac9-a2ea-4b18-b7ef-b13623088262",
   "metadata": {},
   "outputs": [
    {
     "data": {
      "text/html": [
       "<div style=\"width:100%;\"><div style=\"position:relative;width:100%;height:0;padding-bottom:60%;\"><span style=\"color:#565656\">Make this Notebook Trusted to load map: File -> Trust Notebook</span><iframe srcdoc=\"&lt;!DOCTYPE html&gt;\n",
       "&lt;html&gt;\n",
       "&lt;head&gt;\n",
       "    \n",
       "    &lt;meta http-equiv=&quot;content-type&quot; content=&quot;text/html; charset=UTF-8&quot; /&gt;\n",
       "    \n",
       "        &lt;script&gt;\n",
       "            L_NO_TOUCH = false;\n",
       "            L_DISABLE_3D = false;\n",
       "        &lt;/script&gt;\n",
       "    \n",
       "    &lt;style&gt;html, body {width: 100%;height: 100%;margin: 0;padding: 0;}&lt;/style&gt;\n",
       "    &lt;style&gt;#map {position:absolute;top:0;bottom:0;right:0;left:0;}&lt;/style&gt;\n",
       "    &lt;script src=&quot;https://cdn.jsdelivr.net/npm/leaflet@1.9.3/dist/leaflet.js&quot;&gt;&lt;/script&gt;\n",
       "    &lt;script src=&quot;https://code.jquery.com/jquery-1.12.4.min.js&quot;&gt;&lt;/script&gt;\n",
       "    &lt;script src=&quot;https://cdn.jsdelivr.net/npm/bootstrap@5.2.2/dist/js/bootstrap.bundle.min.js&quot;&gt;&lt;/script&gt;\n",
       "    &lt;script src=&quot;https://cdnjs.cloudflare.com/ajax/libs/Leaflet.awesome-markers/2.0.2/leaflet.awesome-markers.js&quot;&gt;&lt;/script&gt;\n",
       "    &lt;link rel=&quot;stylesheet&quot; href=&quot;https://cdn.jsdelivr.net/npm/leaflet@1.9.3/dist/leaflet.css&quot;/&gt;\n",
       "    &lt;link rel=&quot;stylesheet&quot; href=&quot;https://cdn.jsdelivr.net/npm/bootstrap@5.2.2/dist/css/bootstrap.min.css&quot;/&gt;\n",
       "    &lt;link rel=&quot;stylesheet&quot; href=&quot;https://netdna.bootstrapcdn.com/bootstrap/3.0.0/css/bootstrap.min.css&quot;/&gt;\n",
       "    &lt;link rel=&quot;stylesheet&quot; href=&quot;https://cdn.jsdelivr.net/npm/@fortawesome/fontawesome-free@6.2.0/css/all.min.css&quot;/&gt;\n",
       "    &lt;link rel=&quot;stylesheet&quot; href=&quot;https://cdnjs.cloudflare.com/ajax/libs/Leaflet.awesome-markers/2.0.2/leaflet.awesome-markers.css&quot;/&gt;\n",
       "    &lt;link rel=&quot;stylesheet&quot; href=&quot;https://cdn.jsdelivr.net/gh/python-visualization/folium/folium/templates/leaflet.awesome.rotate.min.css&quot;/&gt;\n",
       "    \n",
       "            &lt;meta name=&quot;viewport&quot; content=&quot;width=device-width,\n",
       "                initial-scale=1.0, maximum-scale=1.0, user-scalable=no&quot; /&gt;\n",
       "            &lt;style&gt;\n",
       "                #map_39b64c9639afea9d87995704051aedf3 {\n",
       "                    position: relative;\n",
       "                    width: 100.0%;\n",
       "                    height: 100.0%;\n",
       "                    left: 0.0%;\n",
       "                    top: 0.0%;\n",
       "                }\n",
       "                .leaflet-container { font-size: 1rem; }\n",
       "            &lt;/style&gt;\n",
       "        \n",
       "&lt;/head&gt;\n",
       "&lt;body&gt;\n",
       "    \n",
       "    \n",
       "            &lt;div class=&quot;folium-map&quot; id=&quot;map_39b64c9639afea9d87995704051aedf3&quot; &gt;&lt;/div&gt;\n",
       "        \n",
       "&lt;/body&gt;\n",
       "&lt;script&gt;\n",
       "    \n",
       "    \n",
       "            var map_39b64c9639afea9d87995704051aedf3 = L.map(\n",
       "                &quot;map_39b64c9639afea9d87995704051aedf3&quot;,\n",
       "                {\n",
       "                    center: [56.2, 11.6],\n",
       "                    crs: L.CRS.EPSG3857,\n",
       "                    zoom: 6,\n",
       "                    zoomControl: true,\n",
       "                    preferCanvas: false,\n",
       "                }\n",
       "            );\n",
       "\n",
       "            \n",
       "\n",
       "        \n",
       "    \n",
       "            var tile_layer_27dfa18c94f6df6a26bad7f04049efb9 = L.tileLayer(\n",
       "                &quot;https://{s}.tile.openstreetmap.org/{z}/{x}/{y}.png&quot;,\n",
       "                {&quot;attribution&quot;: &quot;Data by \\u0026copy; \\u003ca target=\\&quot;_blank\\&quot; href=\\&quot;http://openstreetmap.org\\&quot;\\u003eOpenStreetMap\\u003c/a\\u003e, under \\u003ca target=\\&quot;_blank\\&quot; href=\\&quot;http://www.openstreetmap.org/copyright\\&quot;\\u003eODbL\\u003c/a\\u003e.&quot;, &quot;detectRetina&quot;: false, &quot;maxNativeZoom&quot;: 18, &quot;maxZoom&quot;: 18, &quot;minZoom&quot;: 0, &quot;noWrap&quot;: false, &quot;opacity&quot;: 1, &quot;subdomains&quot;: &quot;abc&quot;, &quot;tms&quot;: false}\n",
       "            ).addTo(map_39b64c9639afea9d87995704051aedf3);\n",
       "        \n",
       "    \n",
       "            var poly_line_595ebad8dada038b1d020510e6c3e8d9 = L.polyline(\n",
       "                [[54.5, 8.0], [54.5, 15.2], [57.9, 15.2], [57.9, 8.0], [54.5, 8.0]],\n",
       "                {&quot;bubblingMouseEvents&quot;: true, &quot;color&quot;: &quot;blue&quot;, &quot;dashArray&quot;: null, &quot;dashOffset&quot;: null, &quot;fill&quot;: false, &quot;fillColor&quot;: &quot;blue&quot;, &quot;fillOpacity&quot;: 0.2, &quot;fillRule&quot;: &quot;evenodd&quot;, &quot;lineCap&quot;: &quot;round&quot;, &quot;lineJoin&quot;: &quot;round&quot;, &quot;noClip&quot;: false, &quot;opacity&quot;: 1, &quot;smoothFactor&quot;: 1.0, &quot;stroke&quot;: true, &quot;weight&quot;: 2.5}\n",
       "            ).addTo(map_39b64c9639afea9d87995704051aedf3);\n",
       "        \n",
       "&lt;/script&gt;\n",
       "&lt;/html&gt;\" style=\"position:absolute;width:100%;height:100%;left:0;top:0;border:none !important;\" allowfullscreen webkitallowfullscreen mozallowfullscreen></iframe></div></div>"
      ],
      "text/plain": [
       "<folium.folium.Map at 0x255e02096a0>"
      ]
     },
     "execution_count": 7,
     "metadata": {},
     "output_type": "execute_result"
    }
   ],
   "source": [
    "import folium\n",
    "\n",
    "# Create a base map\n",
    "m = folium.Map(location=[56.2, 11.6], zoom_start=6)  # centering the map around the middle of Denmark\n",
    "\n",
    "# Define the bounding box coordinates for Denmark\n",
    "bbox = [(54.5, 8.0), (54.5, 15.2), (57.9, 15.2), (57.9, 8.0), (54.5, 8.0)]\n",
    "\n",
    "# Add bounding box to the map using PolyLine\n",
    "folium.PolyLine(bbox, color=\"blue\", weight=2.5, opacity=1).add_to(m)\n",
    "\n",
    "# Show the map\n",
    "m\n"
   ]
  },
  {
   "cell_type": "code",
   "execution_count": 8,
   "id": "b50ef735-b395-41e8-9233-97a28b942805",
   "metadata": {},
   "outputs": [
    {
     "name": "stdout",
     "output_type": "stream",
     "text": [
      "215 beaches were outside Denmark and have been removed.\n"
     ]
    }
   ],
   "source": [
    "import geopandas as gpd\n",
    "import pandas as pd\n",
    "\n",
    "# 1. Load the Denmark boundary shapefile\n",
    "denmark_boundary = gpd.read_file(\"Danmark Shapefile/DNK_adm0.shp\")\n",
    "\n",
    "# 2. Load the CSV data for the beaches\n",
    "beaches_df = pd.read_csv('Beaches_right_order.csv')\n",
    "\n",
    "# Convert the CSV dataframe to a geodataframe\n",
    "gdf_beaches = gpd.GeoDataFrame(beaches_df, \n",
    "                               geometry=gpd.points_from_xy(beaches_df.Longitude, beaches_df.Latitude))\n",
    "\n",
    "# 3. Check if each beach is within Denmark's boundary\n",
    "# The resulting object is a Boolean Series\n",
    "in_denmark = gdf_beaches.geometry.within(denmark_boundary.at[0, 'geometry'])\n",
    "\n",
    "# 4. Filter the beaches that are inside Denmark's boundary\n",
    "beaches_inside_denmark = gdf_beaches[in_denmark]\n",
    "\n",
    "# 5. Save the filtered data back to a new CSV\n",
    "beaches_inside_denmark.drop(columns='geometry').to_csv('beaches_inside_denmark.csv', index=False)\n",
    "\n",
    "print(f\"{len(beaches_df) - len(beaches_inside_denmark)} beaches were outside Denmark and have been removed.\")\n"
   ]
  },
  {
   "cell_type": "code",
   "execution_count": null,
   "id": "d4ed7f50-b39d-4525-b50b-48da8afac4f4",
   "metadata": {},
   "outputs": [],
   "source": []
  }
 ],
 "metadata": {
  "kernelspec": {
   "display_name": "Python 3 (ipykernel)",
   "language": "python",
   "name": "python3"
  },
  "language_info": {
   "codemirror_mode": {
    "name": "ipython",
    "version": 3
   },
   "file_extension": ".py",
   "mimetype": "text/x-python",
   "name": "python",
   "nbconvert_exporter": "python",
   "pygments_lexer": "ipython3",
   "version": "3.9.16"
  }
 },
 "nbformat": 4,
 "nbformat_minor": 5
}
