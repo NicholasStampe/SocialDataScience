{
 "cells": [
  {
   "cell_type": "markdown",
   "id": "08e05b21-7796-45a6-9090-fd0555d33088",
   "metadata": {},
   "source": [
    "## Combining the data"
   ]
  },
  {
   "cell_type": "markdown",
   "id": "6021fea9-2cc3-440c-ad00-9457b2555e49",
   "metadata": {},
   "source": [
    "### This file can be run, when you have run \"Geospatial data.pynb\", \"Public Transportation.ipynb\", and \"Beaches.ipynb\"."
   ]
  },
  {
   "cell_type": "code",
   "execution_count": 1,
   "id": "fca7b58e-cfbf-46d9-a964-17a4f475a3d0",
   "metadata": {},
   "outputs": [
    {
     "name": "stdout",
     "output_type": "stream",
     "text": [
      "Data from the three CSV files has been successfully combined and saved to 'combined_data_inside_denmark.csv'.\n"
     ]
    }
   ],
   "source": [
    "import pandas as pd\n",
    "\n",
    "# Load the data from the three CSV files into pandas DataFrames\n",
    "stations_df = pd.read_csv(\"stations_inside_denmark.csv\")\n",
    "beaches_df = pd.read_csv(\"beaches_inside_denmark.csv\")\n",
    "geospatial_df = pd.read_csv(\"geospatial_inside_denmark.csv\")\n",
    "\n",
    "# Combine the three DataFrames into a single DataFrame\n",
    "combined_df = pd.concat([stations_df, beaches_df, geospatial_df], ignore_index=True)\n",
    "\n",
    "# Save the combined data to a new CSV file\n",
    "combined_df.to_csv(\"combined_data_inside_denmark.csv\", index=False)\n",
    "\n",
    "print(\"Data from the three CSV files has been successfully combined and saved to 'combined_data_inside_denmark.csv'.\")\n"
   ]
  },
  {
   "cell_type": "code",
   "execution_count": null,
   "id": "2536ed02-2815-4524-b152-7ba4c7d1418c",
   "metadata": {},
   "outputs": [],
   "source": []
  }
 ],
 "metadata": {
  "kernelspec": {
   "display_name": "Python 3 (ipykernel)",
   "language": "python",
   "name": "python3"
  },
  "language_info": {
   "codemirror_mode": {
    "name": "ipython",
    "version": 3
   },
   "file_extension": ".py",
   "mimetype": "text/x-python",
   "name": "python",
   "nbconvert_exporter": "python",
   "pygments_lexer": "ipython3",
   "version": "3.9.16"
  }
 },
 "nbformat": 4,
 "nbformat_minor": 5
}
