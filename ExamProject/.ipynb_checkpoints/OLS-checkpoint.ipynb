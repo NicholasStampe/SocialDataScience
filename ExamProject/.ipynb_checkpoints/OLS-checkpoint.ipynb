{
 "cells": [
  {
   "cell_type": "code",
   "execution_count": 1,
   "metadata": {},
   "outputs": [],
   "source": [
    "import pandas as pd\n",
    "from sklearn.model_selection import train_test_split\n"
   ]
  },
  {
   "cell_type": "code",
   "execution_count": 2,
   "metadata": {},
   "outputs": [
    {
     "name": "stdout",
     "output_type": "stream",
     "text": [
      "    Latitude  Longitude  Monthly rent  Aconto  Square meters  Rooms  Floor  \\\n",
      "0  55.393856  10.394185        5400.0   800.0           62.0    2.0    2.0   \n",
      "1  56.300211  10.477949        7100.0   700.0          100.0    4.0    1.0   \n",
      "2  57.057390   9.936155        5800.0   300.0           64.0    2.0    1.0   \n",
      "3  55.721333  12.556324        8200.0   500.0           43.0    1.0    2.0   \n",
      "4  56.199538  10.198303        8195.0   600.0           60.0    3.0    2.0   \n",
      "\n",
      "   Furnished  Shareable  Pets allowed  ...  PostalCode_6000-7999  \\\n",
      "0        0.0        0.0           0.0  ...                     0   \n",
      "1        0.0        0.0           1.0  ...                     0   \n",
      "2        0.0        0.0           0.0  ...                     0   \n",
      "3        0.0        0.0           0.0  ...                     0   \n",
      "4        0.0        1.0           1.0  ...                     0   \n",
      "\n",
      "   PostalCode_7000-8999  PostalCode_8000-9999  PostalCode_9000-10999  \\\n",
      "0                     0                     0                      0   \n",
      "1                     0                     1                      0   \n",
      "2                     0                     0                      1   \n",
      "3                     0                     0                      0   \n",
      "4                     0                     1                      0   \n",
      "\n",
      "   Distance to Transport Station (km)  Distance to Beach (km)  \\\n",
      "0                            0.227327               10.937984   \n",
      "1                            6.490199                5.187801   \n",
      "2                            1.991533               46.063274   \n",
      "3                            0.684702                2.087369   \n",
      "4                            1.569096               12.856874   \n",
      "\n",
      "   Distance to School (km)  Distance to Restaurant (km)  \\\n",
      "0                 0.347042                     0.114848   \n",
      "1                 0.198759                     0.081711   \n",
      "2                 0.894998                     1.091345   \n",
      "3                 0.121870                     0.253656   \n",
      "4                 0.929082                     0.441412   \n",
      "\n",
      "   Distance to Hospital (km)  Distance to Mall (km)  \n",
      "0                   1.856833               0.972492  \n",
      "1                  22.428327              20.441833  \n",
      "2                   1.726659               1.252278  \n",
      "3                   0.873095               1.532133  \n",
      "4                   1.803299               0.677731  \n",
      "\n",
      "[5 rows x 30 columns]\n"
     ]
    }
   ],
   "source": [
    "# Load the CSV file into a Pandas DataFrame\n",
    "data = pd.read_csv('Data processing/Final_Data.csv')\n",
    "\n",
    "# Display the first 5 rows of the DataFrame\n",
    "print(data.head())\n"
   ]
  }
 ],
 "metadata": {
  "kernelspec": {
   "display_name": "base",
   "language": "python",
   "name": "python3"
  },
  "language_info": {
   "codemirror_mode": {
    "name": "ipython",
    "version": 3
   },
   "file_extension": ".py",
   "mimetype": "text/x-python",
   "name": "python",
   "nbconvert_exporter": "python",
   "pygments_lexer": "ipython3",
   "version": "3.9.13"
  },
  "orig_nbformat": 4,
  "vscode": {
   "interpreter": {
    "hash": "11631d3d93f10103f216a90b530d411d24f2a799ffced0e9ac835eaee7d54492"
   }
  }
 },
 "nbformat": 4,
 "nbformat_minor": 2
}
