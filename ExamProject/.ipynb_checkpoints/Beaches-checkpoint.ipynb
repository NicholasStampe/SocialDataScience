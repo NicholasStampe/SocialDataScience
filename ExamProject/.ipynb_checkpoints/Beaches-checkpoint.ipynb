{
 "cells": [
  {
   "cell_type": "markdown",
   "id": "36ca4714-fae4-443e-a18a-f1f75d0d313c",
   "metadata": {},
   "source": [
    "### Beaches\n"
   ]
  },
  {
   "cell_type": "code",
   "execution_count": null,
   "id": "11e82d3f-5454-4624-b73d-5ac2f20eeffa",
   "metadata": {},
   "outputs": [
    {
     "name": "stdout",
     "output_type": "stream",
     "text": [
      "Requirement already satisfied: overpy in c:\\users\\user\\anaconda3\\lib\\site-packages (0.6)\n",
      "Note: you may need to restart the kernel to use updated packages.\n"
     ]
    }
   ],
   "source": [
    "pip install overpy\n"
   ]
  },
  {
   "cell_type": "code",
   "execution_count": null,
   "id": "cd76335a-6f3d-4e83-a14a-e29cc22e8c2f",
   "metadata": {},
   "outputs": [
    {
     "name": "stdout",
     "output_type": "stream",
     "text": [
      "Requirement already satisfied: geopandas in c:\\users\\user\\anaconda3\\lib\\site-packages (0.12.2)\n",
      "Requirement already satisfied: shapely>=1.7 in c:\\users\\user\\anaconda3\\lib\\site-packages (from geopandas) (2.0.1)\n",
      "Requirement already satisfied: pyproj>=2.6.1.post1 in c:\\users\\user\\anaconda3\\lib\\site-packages (from geopandas) (2.6.1.post1)\n",
      "Requirement already satisfied: packaging in c:\\users\\user\\anaconda3\\lib\\site-packages (from geopandas) (22.0)\n",
      "Requirement already satisfied: fiona>=1.8 in c:\\users\\user\\anaconda3\\lib\\site-packages (from geopandas) (1.8.22)\n",
      "Requirement already satisfied: pandas>=1.0.0 in c:\\users\\user\\anaconda3\\lib\\site-packages (from geopandas) (1.5.2)\n",
      "Requirement already satisfied: attrs>=17 in c:\\users\\user\\anaconda3\\lib\\site-packages (from fiona>=1.8->geopandas) (22.1.0)\n",
      "Requirement already satisfied: certifi in c:\\users\\user\\anaconda3\\lib\\site-packages (from fiona>=1.8->geopandas) (2023.5.7)\n",
      "Requirement already satisfied: click>=4.0 in c:\\users\\user\\anaconda3\\lib\\site-packages (from fiona>=1.8->geopandas) (8.0.4)\n",
      "Requirement already satisfied: cligj>=0.5 in c:\\users\\user\\anaconda3\\lib\\site-packages (from fiona>=1.8->geopandas) (0.7.2)\n",
      "Requirement already satisfied: click-plugins>=1.0 in c:\\users\\user\\anaconda3\\lib\\site-packages (from fiona>=1.8->geopandas) (1.1.1)\n",
      "Requirement already satisfied: six>=1.7 in c:\\users\\user\\anaconda3\\lib\\site-packages (from fiona>=1.8->geopandas) (1.16.0)\n",
      "Requirement already satisfied: munch in c:\\users\\user\\anaconda3\\lib\\site-packages (from fiona>=1.8->geopandas) (2.5.0)\n",
      "Requirement already satisfied: setuptools in c:\\users\\user\\anaconda3\\lib\\site-packages (from fiona>=1.8->geopandas) (65.6.3)\n",
      "Requirement already satisfied: numpy>=1.20.3 in c:\\users\\user\\anaconda3\\lib\\site-packages (from pandas>=1.0.0->geopandas) (1.23.5)\n",
      "Requirement already satisfied: pytz>=2020.1 in c:\\users\\user\\anaconda3\\lib\\site-packages (from pandas>=1.0.0->geopandas) (2022.7)\n",
      "Requirement already satisfied: python-dateutil>=2.8.1 in c:\\users\\user\\anaconda3\\lib\\site-packages (from pandas>=1.0.0->geopandas) (2.8.2)\n",
      "Requirement already satisfied: colorama in c:\\users\\user\\anaconda3\\lib\\site-packages (from click>=4.0->fiona>=1.8->geopandas) (0.4.6)\n",
      "Note: you may need to restart the kernel to use updated packages.\n"
     ]
    }
   ],
   "source": [
    "pip install geopandas\n"
   ]
  },
  {
   "cell_type": "code",
   "execution_count": null,
   "id": "e0ab4d91-1472-4637-8ead-efad1f256734",
   "metadata": {},
   "outputs": [
    {
     "name": "stderr",
     "output_type": "stream",
     "text": [
      "\n",
      "KeyboardInterrupt\n",
      "\n"
     ]
    }
   ],
   "source": [
    "import overpy\n",
    "\n",
    "api = overpy.Overpass()\n",
    "\n",
    "# Query for beaches in Denmark using a more accurate bounding box\n",
    "result = api.query(\"\"\"\n",
    "[out:json];\n",
    "(\n",
    "  node[\"natural\"=\"beach\"](54.5,8.0,57.9,15.2);\n",
    "  way[\"natural\"=\"beach\"](54.5,8.0,57.9,15.2);\n",
    "  relation[\"natural\"=\"beach\"](54.5,8.0,57.9,15.2);\n",
    ");\n",
    "(._;>;);\n",
    "out body;\n",
    "\"\"\")\n",
    "\n",
    "# Structure the data\n",
    "nodes = [{'name': beach.tags.get('name', 'n/a'), 'location': (beach.lon, beach.lat)} for beach in result.nodes]\n",
    "ways = [{'name': way.tags.get('name', 'n/a'), 'nodes': [(node.lon, node.lat) for node in way.nodes]} for way in result.ways]\n",
    "\n",
    "# For relations, fetch associated ways from the result\n",
    "relations = []\n",
    "for relation in result.relations:\n",
    "    relation_ways = [way for way in result.ways if way.id in [member.ref for member in relation.members if member.role == \"outer\"]]\n",
    "    relations.append({'name': relation.tags.get('name', 'n/a'), 'ways': relation_ways})\n"
   ]
  },
  {
   "cell_type": "code",
   "execution_count": null,
   "id": "c1d633ba-b5ad-43d1-aac2-b3d9e9e9cdc3",
   "metadata": {},
   "outputs": [],
   "source": [
    "import csv\n",
    "\n",
    "def get_centroid(nodes):\n",
    "    \"\"\"Calculate the centroid of a list of nodes.\"\"\"\n",
    "    x_coords = [node[0] for node in nodes]\n",
    "    y_coords = [node[1] for node in nodes]\n",
    "    centroid_x = sum(x_coords) / len(nodes)\n",
    "    centroid_y = sum(y_coords) / len(nodes)\n",
    "    return (centroid_x, centroid_y)\n",
    "\n",
    "beaches_centroids = {}\n",
    "\n",
    "# Handle nodes:\n",
    "for node in nodes:\n",
    "    beach_name = node['name']\n",
    "    if beach_name not in beaches_centroids:\n",
    "        beaches_centroids[beach_name] = node['location']\n",
    "\n",
    "# Handle ways:\n",
    "for way in ways:\n",
    "    beach_name = way['name']\n",
    "    if beach_name not in beaches_centroids:\n",
    "        beaches_centroids[beach_name] = get_centroid(way['nodes'])\n",
    "\n",
    "# Handle relations:\n",
    "for relation in relations:\n",
    "    beach_name = relation['name']\n",
    "    if beach_name not in beaches_centroids:\n",
    "        # For each way in the relation, retrieve its nodes and calculate its centroid\n",
    "        relation_centroids = [get_centroid([(node.lon, node.lat) for node in way.nodes]) for way in relation['ways']]\n",
    "        beaches_centroids[beach_name] = get_centroid(relation_centroids)\n",
    "\n",
    "# Save to CSV\n",
    "with open('Beaches.csv', 'w', newline='') as csvfile:\n",
    "    fieldnames = ['Beach Name', 'Longitude', 'Latitude']\n",
    "    writer = csv.DictWriter(csvfile, fieldnames=fieldnames)\n",
    "    \n",
    "    writer.writeheader()\n",
    "    for name, location in beaches_centroids.items():\n",
    "        writer.writerow({'Beach Name': name, 'Longitude': location[0], 'Latitude': location[1]})\n"
   ]
  },
  {
   "cell_type": "code",
   "execution_count": null,
   "id": "a0a5255d-8bc9-452f-9c10-38a055522e57",
   "metadata": {},
   "outputs": [],
   "source": [
    "import csv\n",
    "\n",
    "# Combine all data\n",
    "all_centroids = {\n",
    "    \"Beaches\": beaches_centroids,\n",
    "}\n",
    "\n",
    "# Write data to CSV with UTF-8 encoding\n",
    "with open(\"beaches.csv\", \"w\", newline='', encoding='utf-8') as csv_file:\n",
    "    writer = csv.writer(csv_file)\n",
    "    # Write header\n",
    "    writer.writerow([\"Type\", \"Name\", \"Longitude\", \"Latitude\"])\n",
    "    \n",
    "    for category, centroids in all_centroids.items():\n",
    "        for name, location in centroids.items():\n",
    "            if location != \"No Centroid\":\n",
    "                writer.writerow([category, name, location[0], location[1]])\n",
    "            else:\n",
    "                writer.writerow([category, name, \"No Centroid\", \"No Centroid\"])\n",
    "\n",
    "print(\"Data written to 'beaches.csv'\")"
   ]
  },
  {
   "cell_type": "code",
   "execution_count": null,
   "id": "7f311f58-ebf9-4b20-b70d-8a9beb8aeab2",
   "metadata": {},
   "outputs": [],
   "source": [
    "import pandas as pd\n",
    "\n",
    "# Assuming you've loaded your data into a DataFrame named 'df'\n",
    "df = pd.read_csv('Beaches.csv')\n",
    "\n",
    "# Reordering the columns\n",
    "df = df[['Type', 'Name', 'Latitude', 'Longitude']]\n",
    "\n",
    "# Saving it back to the CSV (or to a new CSV if you prefer)\n",
    "df.to_csv('Beaches_right_order.csv', index=False)"
   ]
  },
  {
   "cell_type": "markdown",
   "id": "c0029a50-2bec-4b8e-ab0f-c4b5d314e171",
   "metadata": {},
   "source": [
    "### Forsøg 1"
   ]
  },
  {
   "cell_type": "code",
   "execution_count": null,
   "id": "c4db0ac9-a2ea-4b18-b7ef-b13623088262",
   "metadata": {},
   "outputs": [],
   "source": [
    "import folium\n",
    "\n",
    "# Create a base map\n",
    "m = folium.Map(location=[56.2, 11.6], zoom_start=6)  # centering the map around the middle of Denmark\n",
    "\n",
    "# Define the bounding box coordinates for Denmark\n",
    "bbox = [(54.5, 8.0), (54.5, 15.2), (57.9, 15.2), (57.9, 8.0), (54.5, 8.0)]\n",
    "\n",
    "# Add bounding box to the map using PolyLine\n",
    "folium.PolyLine(bbox, color=\"blue\", weight=2.5, opacity=1).add_to(m)\n",
    "\n",
    "# Show the map\n",
    "m\n"
   ]
  },
  {
   "cell_type": "code",
   "execution_count": null,
   "id": "b50ef735-b395-41e8-9233-97a28b942805",
   "metadata": {},
   "outputs": [],
   "source": [
    "import geopandas as gpd\n",
    "import pandas as pd\n",
    "\n",
    "# 1. Load the Denmark boundary shapefile\n",
    "denmark_boundary = gpd.read_file(\"Danmark Shapefile/DNK_adm0.shp\")\n",
    "\n",
    "# 2. Load the CSV data for the beaches\n",
    "beaches_df = pd.read_csv('Beaches_right_order.csv')\n",
    "\n",
    "# Convert the CSV dataframe to a geodataframe\n",
    "gdf_beaches = gpd.GeoDataFrame(beaches_df, \n",
    "                               geometry=gpd.points_from_xy(beaches_df.Longitude, beaches_df.Latitude))\n",
    "\n",
    "# 3. Check if each beach is within Denmark's boundary\n",
    "# The resulting object is a Boolean Series\n",
    "in_denmark = gdf_beaches.geometry.within(denmark_boundary.at[0, 'geometry'])\n",
    "\n",
    "# 4. Filter the beaches that are inside Denmark's boundary\n",
    "beaches_inside_denmark = gdf_beaches[in_denmark]\n",
    "\n",
    "# 5. Save the filtered data back to a new CSV\n",
    "beaches_inside_denmark.drop(columns='geometry').to_csv('beaches_inside_denmark.csv', index=False)\n",
    "\n",
    "print(f\"{len(beaches_df) - len(beaches_inside_denmark)} beaches were outside Denmark and have been removed.\")\n"
   ]
  },
  {
   "cell_type": "code",
   "execution_count": null,
   "id": "d4ed7f50-b39d-4525-b50b-48da8afac4f4",
   "metadata": {},
   "outputs": [],
   "source": []
  }
 ],
 "metadata": {
  "kernelspec": {
   "display_name": "Python 3 (ipykernel)",
   "language": "python",
   "name": "python3"
  },
  "language_info": {
   "codemirror_mode": {
    "name": "ipython",
    "version": 3
   },
   "file_extension": ".py",
   "mimetype": "text/x-python",
   "name": "python",
   "nbconvert_exporter": "python",
   "pygments_lexer": "ipython3",
   "version": "3.9.16"
  }
 },
 "nbformat": 4,
 "nbformat_minor": 5
}
