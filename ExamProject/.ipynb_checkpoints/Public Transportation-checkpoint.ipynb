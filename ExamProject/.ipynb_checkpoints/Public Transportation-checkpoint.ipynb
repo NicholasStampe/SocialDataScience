{
 "cells": [
  {
   "cell_type": "markdown",
   "id": "2e9c50e6-2df3-4c06-b93b-77cad349f757",
   "metadata": {
    "tags": []
   },
   "source": [
    " ### Public Transportation (FINISHED)"
   ]
  },
  {
   "cell_type": "code",
   "execution_count": null,
   "id": "0c787f1e-2d50-4edf-aac0-0ea8591bd240",
   "metadata": {},
   "outputs": [],
   "source": []
  },
  {
   "cell_type": "code",
   "execution_count": 13,
   "id": "89839334-d53e-42b7-b335-2cb18e40930f",
   "metadata": {},
   "outputs": [],
   "source": [
    "#pip install geopandas\n"
   ]
  },
  {
   "cell_type": "code",
   "execution_count": 14,
   "id": "27c836e0-60bd-4c8c-9af1-4738db699231",
   "metadata": {},
   "outputs": [],
   "source": [
    "#pip install overpy\n"
   ]
  },
  {
   "cell_type": "code",
   "execution_count": 15,
   "id": "a0f9f7ea-bb53-4a72-978f-9ebf97e84c10",
   "metadata": {},
   "outputs": [],
   "source": [
    "import overpy\n",
    "\n",
    "api = overpy.Overpass()\n",
    "\n",
    "# Query for public transport stations in Denmark using the bounding box\n",
    "result = api.query(\"\"\"\n",
    "[out:json];\n",
    "(\n",
    "  node[\"public_transport\"=\"station\"](54.5,8.0,57.9,15.2);\n",
    "  way[\"public_transport\"=\"station\"](54.5,8.0,57.9,15.2);\n",
    "  relation[\"public_transport\"=\"station\"](54.5,8.0,57.9,15.2);\n",
    ");\n",
    "(._;>;);\n",
    "out body;\n",
    "\"\"\")\n",
    "\n",
    "# Structure the data\n",
    "nodes = [{'name': station.tags.get('name', 'n/a'), 'location': (station.lon, station.lat)} for station in result.nodes]\n",
    "ways = [{'name': way.tags.get('name', 'n/a'), 'nodes': [(node.lon, node.lat) for node in way.nodes]} for way in result.ways]\n",
    "\n",
    "# For relations, fetch associated ways from the result\n",
    "relations = []\n",
    "for relation in result.relations:\n",
    "    relation_ways = [way for way in result.ways if way.id in [member.ref for member in relation.members if member.role == \"outer\"]]\n",
    "    relations.append({'name': relation.tags.get('name', 'n/a'), 'ways': relation_ways})\n"
   ]
  },
  {
   "cell_type": "code",
   "execution_count": 16,
   "id": "a02028f0-dad9-4d26-a877-06fa733398e2",
   "metadata": {},
   "outputs": [],
   "source": [
    "import csv\n",
    "\n",
    "def get_centroid(nodes):\n",
    "    \"\"\"Calculate the centroid of a list of nodes.\"\"\"\n",
    "    x_coords = [node[0] for node in nodes]\n",
    "    y_coords = [node[1] for node in nodes]\n",
    "    centroid_x = sum(x_coords) / len(nodes)\n",
    "    centroid_y = sum(y_coords) / len(nodes)\n",
    "    return (centroid_x, centroid_y)\n",
    "\n",
    "stations_centroids = {}\n",
    "\n",
    "# Handle nodes:\n",
    "for node in nodes:\n",
    "    station_name = node['name']\n",
    "    if station_name not in stations_centroids:\n",
    "        stations_centroids[station_name] = node['location']\n",
    "\n",
    "# Handle ways:\n",
    "for way in ways:\n",
    "    station_name = way['name']\n",
    "    if station_name not in stations_centroids:\n",
    "        stations_centroids[station_name] = get_centroid(way['nodes'])\n",
    "\n",
    "# Handle relations:\n",
    "for relation in relations:\n",
    "    station_name = relation['name']\n",
    "    if station_name not in stations_centroids:\n",
    "        relation_centroids = [get_centroid([(node.lon, node.lat) for node in way.nodes]) for way in relation['ways']]\n",
    "        stations_centroids[station_name] = get_centroid(relation_centroids)\n"
   ]
  },
  {
   "cell_type": "code",
   "execution_count": 17,
   "id": "5b848988-655f-4076-950a-bd892dae2467",
   "metadata": {},
   "outputs": [
    {
     "name": "stdout",
     "output_type": "stream",
     "text": [
      "Data written to 'public_transport_stations.csv'\n"
     ]
    }
   ],
   "source": [
    "import csv\n",
    "\n",
    "# Combine all data\n",
    "all_centroids = {\n",
    "    \"Public Transport Stations\": stations_centroids,\n",
    "}\n",
    "\n",
    "# Write data to CSV with UTF-8 encoding\n",
    "with open(\"public_transport_stations.csv\", \"w\", newline='', encoding='utf-8') as csv_file:\n",
    "    writer = csv.writer(csv_file)\n",
    "    # Write header\n",
    "    writer.writerow([\"Type\", \"Name\", \"Longitude\", \"Latitude\"])\n",
    "    \n",
    "    for category, centroids in all_centroids.items():\n",
    "        for name, location in centroids.items():\n",
    "            if location != \"No Centroid\":\n",
    "                writer.writerow([category, name, location[0], location[1]])\n",
    "            else:\n",
    "                writer.writerow([category, name, \"No Centroid\", \"No Centroid\"])\n",
    "\n",
    "print(\"Data written to 'public_transport_stations.csv'\")\n"
   ]
  },
  {
   "cell_type": "code",
   "execution_count": 18,
   "id": "2dbdb896-fd9c-43ed-829d-2547f79387d8",
   "metadata": {},
   "outputs": [],
   "source": [
    "import pandas as pd\n",
    "\n",
    "# Assuming you've loaded your data into a DataFrame named 'df'\n",
    "df = pd.read_csv('public_transport_stations.csv')\n",
    "\n",
    "# Reordering the columns\n",
    "df = df[['Type', 'Name', 'Latitude', 'Longitude']]\n",
    "\n",
    "# Saving it back to the CSV (or to a new CSV if you prefer)\n",
    "df.to_csv('public_transport_stations_right_order.csv', index=False)\n"
   ]
  },
  {
   "cell_type": "code",
   "execution_count": 3,
   "id": "5cfea8a3-7c29-4e83-bf04-18fee59f7ea0",
   "metadata": {},
   "outputs": [
    {
     "name": "stdout",
     "output_type": "stream",
     "text": [
      "318 data points were outside Denmark and have been removed.\n"
     ]
    },
    {
     "name": "stderr",
     "output_type": "stream",
     "text": [
      "C:\\Users\\user\\anaconda3\\lib\\site-packages\\IPython\\core\\interactiveshell.py:3382: FutureWarning: The `op` parameter is deprecated and will be removed in a future release. Please use the `predicate` parameter instead.\n",
      "  if await self.run_code(code, result, async_=asy):\n",
      "C:\\Users\\user\\AppData\\Local\\Temp\\ipykernel_32084\\3614534104.py:15: UserWarning: CRS mismatch between the CRS of left geometries and the CRS of right geometries.\n",
      "Use `to_crs()` to reproject one of the input geometries to match the CRS of the other.\n",
      "\n",
      "Left CRS: None\n",
      "Right CRS: EPSG:4326\n",
      "\n",
      "  stations_inside_denmark = gpd.sjoin(gdf_stations, denmark_boundary, op=\"within\")\n"
     ]
    }
   ],
   "source": [
    "import geopandas as gpd\n",
    "import pandas as pd\n",
    "\n",
    "# 1. Load the Denmark boundary shapefile\n",
    "denmark_boundary = gpd.read_file(\"Danmark Shapefile/DNK_adm0.shp\")\n",
    "\n",
    "# 2. Load the CSV data\n",
    "stations_df = pd.read_csv('public_transport_stations_right_order.csv')\n",
    "\n",
    "# Convert the CSV dataframe to a geodataframe\n",
    "gdf_stations = gpd.GeoDataFrame(stations_df,\n",
    "                                geometry=gpd.points_from_xy(stations_df.Longitude, stations_df.Latitude))\n",
    "\n",
    "# 3. Perform spatial join to filter stations within Denmark's boundary\n",
    "stations_inside_denmark = gpd.sjoin(gdf_stations, denmark_boundary, op=\"within\")\n",
    "\n",
    "# Select only the first 4 columns and save to a new CSV\n",
    "columns_to_save = [\"Type\", \"Name\", \"Latitude\", \"Longitude\"]\n",
    "stations_inside_denmark[columns_to_save].to_csv('stations_inside_denmark.csv', index=False)\n",
    "\n",
    "print(f\"{len(stations_df) - len(stations_inside_denmark)} data points were outside Denmark and have been removed.\")\n",
    "\n",
    "# 4. Save the filtered data back to a new CSV\n",
    "#stations_inside_denmark.drop(columns=['geometry', 'index_right']).to_csv('stations_inside_denmark.csv', index=False)\n",
    "\n",
    "#print(f\"{len(stations_df) - len(stations_inside_denmark)} stations were outside Denmark and have been removed.\")\n"
   ]
  },
  {
   "cell_type": "code",
   "execution_count": null,
   "id": "66d81850-ba88-4286-b382-ddecec7fb495",
   "metadata": {},
   "outputs": [],
   "source": []
  },
  {
   "cell_type": "code",
   "execution_count": null,
   "id": "d6022925-ef23-4bf9-8d81-adde85701aad",
   "metadata": {},
   "outputs": [],
   "source": []
  },
  {
   "cell_type": "code",
   "execution_count": null,
   "id": "f4a41aed-f497-448c-baa4-7b60f0577ff0",
   "metadata": {},
   "outputs": [],
   "source": []
  }
 ],
 "metadata": {
  "kernelspec": {
   "display_name": "Python 3 (ipykernel)",
   "language": "python",
   "name": "python3"
  },
  "language_info": {
   "codemirror_mode": {
    "name": "ipython",
    "version": 3
   },
   "file_extension": ".py",
   "mimetype": "text/x-python",
   "name": "python",
   "nbconvert_exporter": "python",
   "pygments_lexer": "ipython3",
   "version": "3.9.16"
  }
 },
 "nbformat": 4,
 "nbformat_minor": 5
}
